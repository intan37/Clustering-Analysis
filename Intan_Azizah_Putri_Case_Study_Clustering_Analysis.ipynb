{
  "nbformat": 4,
  "nbformat_minor": 0,
  "metadata": {
    "colab": {
      "name": "Intan Azizah Putri - Case Study - Clustering Analysis.ipynb",
      "provenance": [],
      "collapsed_sections": [],
      "toc_visible": true
    },
    "kernelspec": {
      "name": "python3",
      "display_name": "Python 3"
    },
    "language_info": {
      "name": "python"
    }
  },
  "cells": [
    {
      "cell_type": "markdown",
      "source": [
        "Kelompok 9 :\n",
        "\n",
        "Briandamar Kencana\n",
        "\n",
        "Intan Azizah Putri"
      ],
      "metadata": {
        "id": "lzOvPdBImVmP"
      }
    },
    {
      "cell_type": "markdown",
      "source": [
        "# Install and Load Packages"
      ],
      "metadata": {
        "id": "nXIHJUvHdLo1"
      }
    },
    {
      "cell_type": "code",
      "source": [
        "!pip install yellowbrick"
      ],
      "metadata": {
        "colab": {
          "base_uri": "https://localhost:8080/"
        },
        "outputId": "73352bbc-604d-4bdd-fe23-2ebc4a050761",
        "id": "YV2ERvZ-mVmR"
      },
      "execution_count": 1,
      "outputs": [
        {
          "output_type": "stream",
          "name": "stdout",
          "text": [
            "Looking in indexes: https://pypi.org/simple, https://us-python.pkg.dev/colab-wheels/public/simple/\n",
            "Requirement already satisfied: yellowbrick in /usr/local/lib/python3.7/dist-packages (1.4)\n",
            "Requirement already satisfied: numpy>=1.16.0 in /usr/local/lib/python3.7/dist-packages (from yellowbrick) (1.21.6)\n",
            "Requirement already satisfied: matplotlib!=3.0.0,>=2.0.2 in /usr/local/lib/python3.7/dist-packages (from yellowbrick) (3.2.2)\n",
            "Requirement already satisfied: cycler>=0.10.0 in /usr/local/lib/python3.7/dist-packages (from yellowbrick) (0.11.0)\n",
            "Requirement already satisfied: scipy>=1.0.0 in /usr/local/lib/python3.7/dist-packages (from yellowbrick) (1.4.1)\n",
            "Requirement already satisfied: scikit-learn>=1.0.0 in /usr/local/lib/python3.7/dist-packages (from yellowbrick) (1.0.2)\n",
            "Requirement already satisfied: python-dateutil>=2.1 in /usr/local/lib/python3.7/dist-packages (from matplotlib!=3.0.0,>=2.0.2->yellowbrick) (2.8.2)\n",
            "Requirement already satisfied: kiwisolver>=1.0.1 in /usr/local/lib/python3.7/dist-packages (from matplotlib!=3.0.0,>=2.0.2->yellowbrick) (1.4.2)\n",
            "Requirement already satisfied: pyparsing!=2.0.4,!=2.1.2,!=2.1.6,>=2.0.1 in /usr/local/lib/python3.7/dist-packages (from matplotlib!=3.0.0,>=2.0.2->yellowbrick) (3.0.9)\n",
            "Requirement already satisfied: typing-extensions in /usr/local/lib/python3.7/dist-packages (from kiwisolver>=1.0.1->matplotlib!=3.0.0,>=2.0.2->yellowbrick) (4.2.0)\n",
            "Requirement already satisfied: six>=1.5 in /usr/local/lib/python3.7/dist-packages (from python-dateutil>=2.1->matplotlib!=3.0.0,>=2.0.2->yellowbrick) (1.15.0)\n",
            "Requirement already satisfied: joblib>=0.11 in /usr/local/lib/python3.7/dist-packages (from scikit-learn>=1.0.0->yellowbrick) (1.1.0)\n",
            "Requirement already satisfied: threadpoolctl>=2.0.0 in /usr/local/lib/python3.7/dist-packages (from scikit-learn>=1.0.0->yellowbrick) (3.1.0)\n"
          ]
        }
      ]
    },
    {
      "cell_type": "code",
      "source": [
        "import numpy as np\n",
        "import pandas as pd\n",
        "import seaborn as sns\n",
        "import matplotlib.pyplot as plt\n",
        "\n",
        "from scipy.spatial import ConvexHull\n",
        "\n",
        "from datetime import datetime\n",
        "\n",
        "from sklearn.cluster import KMeans\n",
        "from sklearn.preprocessing import StandardScaler\n",
        "from sklearn.decomposition import PCA\n",
        "\n",
        "from yellowbrick.cluster import KElbowVisualizer\n",
        "from yellowbrick.cluster import SilhouetteVisualizer\n",
        "\n",
        "from matplotlib.ticker import PercentFormatter\n",
        "import matplotlib as mpl"
      ],
      "metadata": {
        "id": "1vFVXi_XmVmS"
      },
      "execution_count": 2,
      "outputs": []
    },
    {
      "cell_type": "markdown",
      "source": [
        "# Load Dataset"
      ],
      "metadata": {
        "id": "sdCbFsXmmVmT"
      }
    },
    {
      "cell_type": "code",
      "source": [
        "gs = pd.read_csv(\"https://raw.githubusercontent.com/hadimaster65555/dataset_for_teaching/main/dataset/superstore_dataset/global_superstore.csv\")"
      ],
      "metadata": {
        "id": "b1tLeokMmVmT"
      },
      "execution_count": 3,
      "outputs": []
    },
    {
      "cell_type": "markdown",
      "source": [
        "**Check `gs` structure**"
      ],
      "metadata": {
        "id": "aq8YUD-LmVmU"
      }
    },
    {
      "cell_type": "code",
      "source": [
        "gs.head()"
      ],
      "metadata": {
        "colab": {
          "base_uri": "https://localhost:8080/",
          "height": 542
        },
        "outputId": "fff338c5-3afb-4cde-dd94-fd03fb25b21a",
        "id": "o6-u5MedmVmV"
      },
      "execution_count": 4,
      "outputs": [
        {
          "output_type": "execute_result",
          "data": {
            "text/plain": [
              "   row_id         order_id            order_date             ship_date  \\\n",
              "0   32298   CA-2012-124891  2012-07-31T00:00:00Z  2012-07-31T00:00:00Z   \n",
              "1   26341    IN-2013-77878  2013-02-05T00:00:00Z  2013-02-07T00:00:00Z   \n",
              "2   25330    IN-2013-71249  2013-10-17T00:00:00Z  2013-10-18T00:00:00Z   \n",
              "3   13524  ES-2013-1579342  2013-01-28T00:00:00Z  2013-01-30T00:00:00Z   \n",
              "4   47221     SG-2013-4320  2013-11-05T00:00:00Z  2013-11-06T00:00:00Z   \n",
              "\n",
              "      ship_mode customer_id     customer_name      segment           city  \\\n",
              "0      Same Day    RH-19495       Rick Hansen     Consumer  New York City   \n",
              "1  Second Class    JR-16210     Justin Ritter    Corporate     Wollongong   \n",
              "2   First Class    CR-12730      Craig Reiter     Consumer       Brisbane   \n",
              "3   First Class    KM-16375  Katherine Murray  Home Office         Berlin   \n",
              "4      Same Day     RH-9495       Rick Hansen     Consumer          Dakar   \n",
              "\n",
              "             state  ...        product_id    category sub_category  \\\n",
              "0         New York  ...   TEC-AC-10003033  Technology  Accessories   \n",
              "1  New South Wales  ...   FUR-CH-10003950   Furniture       Chairs   \n",
              "2       Queensland  ...   TEC-PH-10004664  Technology       Phones   \n",
              "3           Berlin  ...   TEC-PH-10004583  Technology       Phones   \n",
              "4            Dakar  ...  TEC-SHA-10000501  Technology      Copiers   \n",
              "\n",
              "                                        product_name     sales quantity  \\\n",
              "0  Plantronics CS510 - Over-the-Head monaural Wir...  2309.650        7   \n",
              "1          Novimex Executive Leather Armchair, Black  3709.395        9   \n",
              "2                  Nokia Smart Phone, with Caller ID  5175.171        9   \n",
              "3                     Motorola Smart Phone, Cordless  2892.510        5   \n",
              "4                     Sharp Wireless Fax, High-Speed  2832.960        8   \n",
              "\n",
              "  discount    profit  shipping_cost  order_priority  \n",
              "0      0.0  762.1845         933.57        Critical  \n",
              "1      0.1 -288.7650         923.63        Critical  \n",
              "2      0.1  919.9710         915.49          Medium  \n",
              "3      0.1  -96.5400         910.16          Medium  \n",
              "4      0.0  311.5200         903.04        Critical  \n",
              "\n",
              "[5 rows x 24 columns]"
            ],
            "text/html": [
              "\n",
              "  <div id=\"df-6c015e02-139f-4b85-a767-2acfcf144dd0\">\n",
              "    <div class=\"colab-df-container\">\n",
              "      <div>\n",
              "<style scoped>\n",
              "    .dataframe tbody tr th:only-of-type {\n",
              "        vertical-align: middle;\n",
              "    }\n",
              "\n",
              "    .dataframe tbody tr th {\n",
              "        vertical-align: top;\n",
              "    }\n",
              "\n",
              "    .dataframe thead th {\n",
              "        text-align: right;\n",
              "    }\n",
              "</style>\n",
              "<table border=\"1\" class=\"dataframe\">\n",
              "  <thead>\n",
              "    <tr style=\"text-align: right;\">\n",
              "      <th></th>\n",
              "      <th>row_id</th>\n",
              "      <th>order_id</th>\n",
              "      <th>order_date</th>\n",
              "      <th>ship_date</th>\n",
              "      <th>ship_mode</th>\n",
              "      <th>customer_id</th>\n",
              "      <th>customer_name</th>\n",
              "      <th>segment</th>\n",
              "      <th>city</th>\n",
              "      <th>state</th>\n",
              "      <th>...</th>\n",
              "      <th>product_id</th>\n",
              "      <th>category</th>\n",
              "      <th>sub_category</th>\n",
              "      <th>product_name</th>\n",
              "      <th>sales</th>\n",
              "      <th>quantity</th>\n",
              "      <th>discount</th>\n",
              "      <th>profit</th>\n",
              "      <th>shipping_cost</th>\n",
              "      <th>order_priority</th>\n",
              "    </tr>\n",
              "  </thead>\n",
              "  <tbody>\n",
              "    <tr>\n",
              "      <th>0</th>\n",
              "      <td>32298</td>\n",
              "      <td>CA-2012-124891</td>\n",
              "      <td>2012-07-31T00:00:00Z</td>\n",
              "      <td>2012-07-31T00:00:00Z</td>\n",
              "      <td>Same Day</td>\n",
              "      <td>RH-19495</td>\n",
              "      <td>Rick Hansen</td>\n",
              "      <td>Consumer</td>\n",
              "      <td>New York City</td>\n",
              "      <td>New York</td>\n",
              "      <td>...</td>\n",
              "      <td>TEC-AC-10003033</td>\n",
              "      <td>Technology</td>\n",
              "      <td>Accessories</td>\n",
              "      <td>Plantronics CS510 - Over-the-Head monaural Wir...</td>\n",
              "      <td>2309.650</td>\n",
              "      <td>7</td>\n",
              "      <td>0.0</td>\n",
              "      <td>762.1845</td>\n",
              "      <td>933.57</td>\n",
              "      <td>Critical</td>\n",
              "    </tr>\n",
              "    <tr>\n",
              "      <th>1</th>\n",
              "      <td>26341</td>\n",
              "      <td>IN-2013-77878</td>\n",
              "      <td>2013-02-05T00:00:00Z</td>\n",
              "      <td>2013-02-07T00:00:00Z</td>\n",
              "      <td>Second Class</td>\n",
              "      <td>JR-16210</td>\n",
              "      <td>Justin Ritter</td>\n",
              "      <td>Corporate</td>\n",
              "      <td>Wollongong</td>\n",
              "      <td>New South Wales</td>\n",
              "      <td>...</td>\n",
              "      <td>FUR-CH-10003950</td>\n",
              "      <td>Furniture</td>\n",
              "      <td>Chairs</td>\n",
              "      <td>Novimex Executive Leather Armchair, Black</td>\n",
              "      <td>3709.395</td>\n",
              "      <td>9</td>\n",
              "      <td>0.1</td>\n",
              "      <td>-288.7650</td>\n",
              "      <td>923.63</td>\n",
              "      <td>Critical</td>\n",
              "    </tr>\n",
              "    <tr>\n",
              "      <th>2</th>\n",
              "      <td>25330</td>\n",
              "      <td>IN-2013-71249</td>\n",
              "      <td>2013-10-17T00:00:00Z</td>\n",
              "      <td>2013-10-18T00:00:00Z</td>\n",
              "      <td>First Class</td>\n",
              "      <td>CR-12730</td>\n",
              "      <td>Craig Reiter</td>\n",
              "      <td>Consumer</td>\n",
              "      <td>Brisbane</td>\n",
              "      <td>Queensland</td>\n",
              "      <td>...</td>\n",
              "      <td>TEC-PH-10004664</td>\n",
              "      <td>Technology</td>\n",
              "      <td>Phones</td>\n",
              "      <td>Nokia Smart Phone, with Caller ID</td>\n",
              "      <td>5175.171</td>\n",
              "      <td>9</td>\n",
              "      <td>0.1</td>\n",
              "      <td>919.9710</td>\n",
              "      <td>915.49</td>\n",
              "      <td>Medium</td>\n",
              "    </tr>\n",
              "    <tr>\n",
              "      <th>3</th>\n",
              "      <td>13524</td>\n",
              "      <td>ES-2013-1579342</td>\n",
              "      <td>2013-01-28T00:00:00Z</td>\n",
              "      <td>2013-01-30T00:00:00Z</td>\n",
              "      <td>First Class</td>\n",
              "      <td>KM-16375</td>\n",
              "      <td>Katherine Murray</td>\n",
              "      <td>Home Office</td>\n",
              "      <td>Berlin</td>\n",
              "      <td>Berlin</td>\n",
              "      <td>...</td>\n",
              "      <td>TEC-PH-10004583</td>\n",
              "      <td>Technology</td>\n",
              "      <td>Phones</td>\n",
              "      <td>Motorola Smart Phone, Cordless</td>\n",
              "      <td>2892.510</td>\n",
              "      <td>5</td>\n",
              "      <td>0.1</td>\n",
              "      <td>-96.5400</td>\n",
              "      <td>910.16</td>\n",
              "      <td>Medium</td>\n",
              "    </tr>\n",
              "    <tr>\n",
              "      <th>4</th>\n",
              "      <td>47221</td>\n",
              "      <td>SG-2013-4320</td>\n",
              "      <td>2013-11-05T00:00:00Z</td>\n",
              "      <td>2013-11-06T00:00:00Z</td>\n",
              "      <td>Same Day</td>\n",
              "      <td>RH-9495</td>\n",
              "      <td>Rick Hansen</td>\n",
              "      <td>Consumer</td>\n",
              "      <td>Dakar</td>\n",
              "      <td>Dakar</td>\n",
              "      <td>...</td>\n",
              "      <td>TEC-SHA-10000501</td>\n",
              "      <td>Technology</td>\n",
              "      <td>Copiers</td>\n",
              "      <td>Sharp Wireless Fax, High-Speed</td>\n",
              "      <td>2832.960</td>\n",
              "      <td>8</td>\n",
              "      <td>0.0</td>\n",
              "      <td>311.5200</td>\n",
              "      <td>903.04</td>\n",
              "      <td>Critical</td>\n",
              "    </tr>\n",
              "  </tbody>\n",
              "</table>\n",
              "<p>5 rows × 24 columns</p>\n",
              "</div>\n",
              "      <button class=\"colab-df-convert\" onclick=\"convertToInteractive('df-6c015e02-139f-4b85-a767-2acfcf144dd0')\"\n",
              "              title=\"Convert this dataframe to an interactive table.\"\n",
              "              style=\"display:none;\">\n",
              "        \n",
              "  <svg xmlns=\"http://www.w3.org/2000/svg\" height=\"24px\"viewBox=\"0 0 24 24\"\n",
              "       width=\"24px\">\n",
              "    <path d=\"M0 0h24v24H0V0z\" fill=\"none\"/>\n",
              "    <path d=\"M18.56 5.44l.94 2.06.94-2.06 2.06-.94-2.06-.94-.94-2.06-.94 2.06-2.06.94zm-11 1L8.5 8.5l.94-2.06 2.06-.94-2.06-.94L8.5 2.5l-.94 2.06-2.06.94zm10 10l.94 2.06.94-2.06 2.06-.94-2.06-.94-.94-2.06-.94 2.06-2.06.94z\"/><path d=\"M17.41 7.96l-1.37-1.37c-.4-.4-.92-.59-1.43-.59-.52 0-1.04.2-1.43.59L10.3 9.45l-7.72 7.72c-.78.78-.78 2.05 0 2.83L4 21.41c.39.39.9.59 1.41.59.51 0 1.02-.2 1.41-.59l7.78-7.78 2.81-2.81c.8-.78.8-2.07 0-2.86zM5.41 20L4 18.59l7.72-7.72 1.47 1.35L5.41 20z\"/>\n",
              "  </svg>\n",
              "      </button>\n",
              "      \n",
              "  <style>\n",
              "    .colab-df-container {\n",
              "      display:flex;\n",
              "      flex-wrap:wrap;\n",
              "      gap: 12px;\n",
              "    }\n",
              "\n",
              "    .colab-df-convert {\n",
              "      background-color: #E8F0FE;\n",
              "      border: none;\n",
              "      border-radius: 50%;\n",
              "      cursor: pointer;\n",
              "      display: none;\n",
              "      fill: #1967D2;\n",
              "      height: 32px;\n",
              "      padding: 0 0 0 0;\n",
              "      width: 32px;\n",
              "    }\n",
              "\n",
              "    .colab-df-convert:hover {\n",
              "      background-color: #E2EBFA;\n",
              "      box-shadow: 0px 1px 2px rgba(60, 64, 67, 0.3), 0px 1px 3px 1px rgba(60, 64, 67, 0.15);\n",
              "      fill: #174EA6;\n",
              "    }\n",
              "\n",
              "    [theme=dark] .colab-df-convert {\n",
              "      background-color: #3B4455;\n",
              "      fill: #D2E3FC;\n",
              "    }\n",
              "\n",
              "    [theme=dark] .colab-df-convert:hover {\n",
              "      background-color: #434B5C;\n",
              "      box-shadow: 0px 1px 3px 1px rgba(0, 0, 0, 0.15);\n",
              "      filter: drop-shadow(0px 1px 2px rgba(0, 0, 0, 0.3));\n",
              "      fill: #FFFFFF;\n",
              "    }\n",
              "  </style>\n",
              "\n",
              "      <script>\n",
              "        const buttonEl =\n",
              "          document.querySelector('#df-6c015e02-139f-4b85-a767-2acfcf144dd0 button.colab-df-convert');\n",
              "        buttonEl.style.display =\n",
              "          google.colab.kernel.accessAllowed ? 'block' : 'none';\n",
              "\n",
              "        async function convertToInteractive(key) {\n",
              "          const element = document.querySelector('#df-6c015e02-139f-4b85-a767-2acfcf144dd0');\n",
              "          const dataTable =\n",
              "            await google.colab.kernel.invokeFunction('convertToInteractive',\n",
              "                                                     [key], {});\n",
              "          if (!dataTable) return;\n",
              "\n",
              "          const docLinkHtml = 'Like what you see? Visit the ' +\n",
              "            '<a target=\"_blank\" href=https://colab.research.google.com/notebooks/data_table.ipynb>data table notebook</a>'\n",
              "            + ' to learn more about interactive tables.';\n",
              "          element.innerHTML = '';\n",
              "          dataTable['output_type'] = 'display_data';\n",
              "          await google.colab.output.renderOutput(dataTable, element);\n",
              "          const docLink = document.createElement('div');\n",
              "          docLink.innerHTML = docLinkHtml;\n",
              "          element.appendChild(docLink);\n",
              "        }\n",
              "      </script>\n",
              "    </div>\n",
              "  </div>\n",
              "  "
            ]
          },
          "metadata": {},
          "execution_count": 4
        }
      ]
    },
    {
      "cell_type": "code",
      "source": [
        "gs.info()"
      ],
      "metadata": {
        "colab": {
          "base_uri": "https://localhost:8080/"
        },
        "outputId": "3da8c6b3-ff2c-407d-8359-762bde1d3389",
        "id": "2tOjxRDjmVmV"
      },
      "execution_count": 5,
      "outputs": [
        {
          "output_type": "stream",
          "name": "stdout",
          "text": [
            "<class 'pandas.core.frame.DataFrame'>\n",
            "RangeIndex: 51290 entries, 0 to 51289\n",
            "Data columns (total 24 columns):\n",
            " #   Column          Non-Null Count  Dtype  \n",
            "---  ------          --------------  -----  \n",
            " 0   row_id          51290 non-null  int64  \n",
            " 1   order_id        51290 non-null  object \n",
            " 2   order_date      51290 non-null  object \n",
            " 3   ship_date       51290 non-null  object \n",
            " 4   ship_mode       51290 non-null  object \n",
            " 5   customer_id     51290 non-null  object \n",
            " 6   customer_name   51290 non-null  object \n",
            " 7   segment         51290 non-null  object \n",
            " 8   city            51290 non-null  object \n",
            " 9   state           51290 non-null  object \n",
            " 10  country         51290 non-null  object \n",
            " 11  postal_code     9994 non-null   float64\n",
            " 12  market          51290 non-null  object \n",
            " 13  region          51290 non-null  object \n",
            " 14  product_id      51290 non-null  object \n",
            " 15  category        51290 non-null  object \n",
            " 16  sub_category    51290 non-null  object \n",
            " 17  product_name    51290 non-null  object \n",
            " 18  sales           51290 non-null  float64\n",
            " 19  quantity        51290 non-null  int64  \n",
            " 20  discount        51290 non-null  float64\n",
            " 21  profit          51290 non-null  float64\n",
            " 22  shipping_cost   51290 non-null  float64\n",
            " 23  order_priority  51290 non-null  object \n",
            "dtypes: float64(5), int64(2), object(17)\n",
            "memory usage: 9.4+ MB\n"
          ]
        }
      ]
    },
    {
      "cell_type": "code",
      "source": [
        "gs = gs[(gs[\"profit\"] > 0)]"
      ],
      "metadata": {
        "id": "Bvl7SkteLY5u"
      },
      "execution_count": 6,
      "outputs": []
    },
    {
      "cell_type": "code",
      "source": [
        "plt.figure(figsize=(10,14))\n",
        "gs['country'].value_counts(ascending=True).plot(kind='barh');"
      ],
      "metadata": {
        "colab": {
          "base_uri": "https://localhost:8080/",
          "height": 810
        },
        "outputId": "efe86183-4fe3-4fd0-ae45-899618a25049",
        "id": "KgLa6kKymVmX"
      },
      "execution_count": 7,
      "outputs": [
        {
          "output_type": "display_data",
          "data": {
            "text/plain": [
              "<Figure size 720x1008 with 1 Axes>"
            ],
            "image/png": "[encoded data removed]"
          },
          "metadata": {}
        }
      ]
    },
    {
      "cell_type": "markdown",
      "source": [
        "**Only pick from United States**"
      ],
      "metadata": {
        "id": "1gBb5r47mVmY"
      }
    },
    {
      "cell_type": "code",
      "source": [
        "gs = gs.query('country == \"United States\"')"
      ],
      "metadata": {
        "id": "N6uyE83smVmY"
      },
      "execution_count": 8,
      "outputs": []
    },
    {
      "cell_type": "markdown",
      "source": [
        "**Check null values inside dataset**"
      ],
      "metadata": {
        "id": "i85DfjLXmVmc"
      }
    },
    {
      "cell_type": "code",
      "source": [
        "gs.isna().sum()"
      ],
      "metadata": {
        "colab": {
          "base_uri": "https://localhost:8080/"
        },
        "outputId": "dd9ba79e-342b-445d-cc28-02d8d251fd71",
        "id": "DAKZ4LhYmVmc"
      },
      "execution_count": 9,
      "outputs": [
        {
          "output_type": "execute_result",
          "data": {
            "text/plain": [
              "row_id            0\n",
              "order_id          0\n",
              "order_date        0\n",
              "ship_date         0\n",
              "ship_mode         0\n",
              "customer_id       0\n",
              "customer_name     0\n",
              "segment           0\n",
              "city              0\n",
              "state             0\n",
              "country           0\n",
              "postal_code       0\n",
              "market            0\n",
              "region            0\n",
              "product_id        0\n",
              "category          0\n",
              "sub_category      0\n",
              "product_name      0\n",
              "sales             0\n",
              "quantity          0\n",
              "discount          0\n",
              "profit            0\n",
              "shipping_cost     0\n",
              "order_priority    0\n",
              "dtype: int64"
            ]
          },
          "metadata": {},
          "execution_count": 9
        }
      ]
    },
    {
      "cell_type": "code",
      "source": [
        "gs.head()"
      ],
      "metadata": {
        "colab": {
          "base_uri": "https://localhost:8080/",
          "height": 542
        },
        "id": "OPytX8lMDl-y",
        "outputId": "0bf62fed-23d9-483d-d8f6-891567d23d96"
      },
      "execution_count": 10,
      "outputs": [
        {
          "output_type": "execute_result",
          "data": {
            "text/plain": [
              "    row_id        order_id            order_date             ship_date  \\\n",
              "0    32298  CA-2012-124891  2012-07-31T00:00:00Z  2012-07-31T00:00:00Z   \n",
              "8    40155  CA-2014-135909  2014-10-14T00:00:00Z  2014-10-21T00:00:00Z   \n",
              "10   34577  CA-2011-102988  2011-04-05T00:00:00Z  2011-04-09T00:00:00Z   \n",
              "16   36178  CA-2014-143567  2014-11-03T00:00:00Z  2014-11-06T00:00:00Z   \n",
              "21   31784  CA-2011-154627  2011-10-29T00:00:00Z  2011-10-31T00:00:00Z   \n",
              "\n",
              "         ship_mode customer_id  customer_name    segment           city  \\\n",
              "0         Same Day    RH-19495    Rick Hansen   Consumer  New York City   \n",
              "8   Standard Class    JW-15220      Jane Waco  Corporate     Sacramento   \n",
              "10    Second Class    GM-14695   Greg Maxwell  Corporate     Alexandria   \n",
              "16    Second Class    TB-21175  Thomas Boland  Corporate      Henderson   \n",
              "21     First Class    SA-20830   Sue Ann Reed   Consumer        Chicago   \n",
              "\n",
              "         state  ...       product_id         category sub_category  \\\n",
              "0     New York  ...  TEC-AC-10003033       Technology  Accessories   \n",
              "8   California  ...  OFF-BI-10003527  Office Supplies      Binders   \n",
              "10    Virginia  ...  OFF-SU-10002881  Office Supplies     Supplies   \n",
              "16    Kentucky  ...  TEC-AC-10004145       Technology  Accessories   \n",
              "21    Illinois  ...  TEC-PH-10001363       Technology       Phones   \n",
              "\n",
              "                                         product_name     sales quantity  \\\n",
              "0   Plantronics CS510 - Over-the-Head monaural Wir...  2309.650        7   \n",
              "8   Fellowes PB500 Electric Punch Plastic Comb Bin...  5083.960        5   \n",
              "10  Martin Yale Chadless Opener Electric Letter Op...  4164.050        5   \n",
              "16                      Logitech diNovo Edge Keyboard  2249.910        9   \n",
              "21                                    Apple iPhone 5S  2735.952        6   \n",
              "\n",
              "   discount     profit  shipping_cost  order_priority  \n",
              "0       0.0   762.1845         933.57        Critical  \n",
              "8       0.2  1906.4850         867.69             Low  \n",
              "10      0.0    83.2810         846.54            High  \n",
              "16      0.0   517.4793         780.70        Critical  \n",
              "21      0.2   341.9940         752.51            High  \n",
              "\n",
              "[5 rows x 24 columns]"
            ],
            "text/html": [
              "\n",
              "  <div id=\"df-a7ee0f6a-9a56-4e33-b05c-374d1abb6a37\">\n",
              "    <div class=\"colab-df-container\">\n",
              "      <div>\n",
              "<style scoped>\n",
              "    .dataframe tbody tr th:only-of-type {\n",
              "        vertical-align: middle;\n",
              "    }\n",
              "\n",
              "    .dataframe tbody tr th {\n",
              "        vertical-align: top;\n",
              "    }\n",
              "\n",
              "    .dataframe thead th {\n",
              "        text-align: right;\n",
              "    }\n",
              "</style>\n",
              "<table border=\"1\" class=\"dataframe\">\n",
              "  <thead>\n",
              "    <tr style=\"text-align: right;\">\n",
              "      <th></th>\n",
              "      <th>row_id</th>\n",
              "      <th>order_id</th>\n",
              "      <th>order_date</th>\n",
              "      <th>ship_date</th>\n",
              "      <th>ship_mode</th>\n",
              "      <th>customer_id</th>\n",
              "      <th>customer_name</th>\n",
              "      <th>segment</th>\n",
              "      <th>city</th>\n",
              "      <th>state</th>\n",
              "      <th>...</th>\n",
              "      <th>product_id</th>\n",
              "      <th>category</th>\n",
              "      <th>sub_category</th>\n",
              "      <th>product_name</th>\n",
              "      <th>sales</th>\n",
              "      <th>quantity</th>\n",
              "      <th>discount</th>\n",
              "      <th>profit</th>\n",
              "      <th>shipping_cost</th>\n",
              "      <th>order_priority</th>\n",
              "    </tr>\n",
              "  </thead>\n",
              "  <tbody>\n",
              "    <tr>\n",
              "      <th>0</th>\n",
              "      <td>32298</td>\n",
              "      <td>CA-2012-124891</td>\n",
              "      <td>2012-07-31T00:00:00Z</td>\n",
              "      <td>2012-07-31T00:00:00Z</td>\n",
              "      <td>Same Day</td>\n",
              "      <td>RH-19495</td>\n",
              "      <td>Rick Hansen</td>\n",
              "      <td>Consumer</td>\n",
              "      <td>New York City</td>\n",
              "      <td>New York</td>\n",
              "      <td>...</td>\n",
              "      <td>TEC-AC-10003033</td>\n",
              "      <td>Technology</td>\n",
              "      <td>Accessories</td>\n",
              "      <td>Plantronics CS510 - Over-the-Head monaural Wir...</td>\n",
              "      <td>2309.650</td>\n",
              "      <td>7</td>\n",
              "      <td>0.0</td>\n",
              "      <td>762.1845</td>\n",
              "      <td>933.57</td>\n",
              "      <td>Critical</td>\n",
              "    </tr>\n",
              "    <tr>\n",
              "      <th>8</th>\n",
              "      <td>40155</td>\n",
              "      <td>CA-2014-135909</td>\n",
              "      <td>2014-10-14T00:00:00Z</td>\n",
              "      <td>2014-10-21T00:00:00Z</td>\n",
              "      <td>Standard Class</td>\n",
              "      <td>JW-15220</td>\n",
              "      <td>Jane Waco</td>\n",
              "      <td>Corporate</td>\n",
              "      <td>Sacramento</td>\n",
              "      <td>California</td>\n",
              "      <td>...</td>\n",
              "      <td>OFF-BI-10003527</td>\n",
              "      <td>Office Supplies</td>\n",
              "      <td>Binders</td>\n",
              "      <td>Fellowes PB500 Electric Punch Plastic Comb Bin...</td>\n",
              "      <td>5083.960</td>\n",
              "      <td>5</td>\n",
              "      <td>0.2</td>\n",
              "      <td>1906.4850</td>\n",
              "      <td>867.69</td>\n",
              "      <td>Low</td>\n",
              "    </tr>\n",
              "    <tr>\n",
              "      <th>10</th>\n",
              "      <td>34577</td>\n",
              "      <td>CA-2011-102988</td>\n",
              "      <td>2011-04-05T00:00:00Z</td>\n",
              "      <td>2011-04-09T00:00:00Z</td>\n",
              "      <td>Second Class</td>\n",
              "      <td>GM-14695</td>\n",
              "      <td>Greg Maxwell</td>\n",
              "      <td>Corporate</td>\n",
              "      <td>Alexandria</td>\n",
              "      <td>Virginia</td>\n",
              "      <td>...</td>\n",
              "      <td>OFF-SU-10002881</td>\n",
              "      <td>Office Supplies</td>\n",
              "      <td>Supplies</td>\n",
              "      <td>Martin Yale Chadless Opener Electric Letter Op...</td>\n",
              "      <td>4164.050</td>\n",
              "      <td>5</td>\n",
              "      <td>0.0</td>\n",
              "      <td>83.2810</td>\n",
              "      <td>846.54</td>\n",
              "      <td>High</td>\n",
              "    </tr>\n",
              "    <tr>\n",
              "      <th>16</th>\n",
              "      <td>36178</td>\n",
              "      <td>CA-2014-143567</td>\n",
              "      <td>2014-11-03T00:00:00Z</td>\n",
              "      <td>2014-11-06T00:00:00Z</td>\n",
              "      <td>Second Class</td>\n",
              "      <td>TB-21175</td>\n",
              "      <td>Thomas Boland</td>\n",
              "      <td>Corporate</td>\n",
              "      <td>Henderson</td>\n",
              "      <td>Kentucky</td>\n",
              "      <td>...</td>\n",
              "      <td>TEC-AC-10004145</td>\n",
              "      <td>Technology</td>\n",
              "      <td>Accessories</td>\n",
              "      <td>Logitech diNovo Edge Keyboard</td>\n",
              "      <td>2249.910</td>\n",
              "      <td>9</td>\n",
              "      <td>0.0</td>\n",
              "      <td>517.4793</td>\n",
              "      <td>780.70</td>\n",
              "      <td>Critical</td>\n",
              "    </tr>\n",
              "    <tr>\n",
              "      <th>21</th>\n",
              "      <td>31784</td>\n",
              "      <td>CA-2011-154627</td>\n",
              "      <td>2011-10-29T00:00:00Z</td>\n",
              "      <td>2011-10-31T00:00:00Z</td>\n",
              "      <td>First Class</td>\n",
              "      <td>SA-20830</td>\n",
              "      <td>Sue Ann Reed</td>\n",
              "      <td>Consumer</td>\n",
              "      <td>Chicago</td>\n",
              "      <td>Illinois</td>\n",
              "      <td>...</td>\n",
              "      <td>TEC-PH-10001363</td>\n",
              "      <td>Technology</td>\n",
              "      <td>Phones</td>\n",
              "      <td>Apple iPhone 5S</td>\n",
              "      <td>2735.952</td>\n",
              "      <td>6</td>\n",
              "      <td>0.2</td>\n",
              "      <td>341.9940</td>\n",
              "      <td>752.51</td>\n",
              "      <td>High</td>\n",
              "    </tr>\n",
              "  </tbody>\n",
              "</table>\n",
              "<p>5 rows × 24 columns</p>\n",
              "</div>\n",
              "      <button class=\"colab-df-convert\" onclick=\"convertToInteractive('df-a7ee0f6a-9a56-4e33-b05c-374d1abb6a37')\"\n",
              "              title=\"Convert this dataframe to an interactive table.\"\n",
              "              style=\"display:none;\">\n",
              "        \n",
              "  <svg xmlns=\"http://www.w3.org/2000/svg\" height=\"24px\"viewBox=\"0 0 24 24\"\n",
              "       width=\"24px\">\n",
              "    <path d=\"M0 0h24v24H0V0z\" fill=\"none\"/>\n",
              "    <path d=\"M18.56 5.44l.94 2.06.94-2.06 2.06-.94-2.06-.94-.94-2.06-.94 2.06-2.06.94zm-11 1L8.5 8.5l.94-2.06 2.06-.94-2.06-.94L8.5 2.5l-.94 2.06-2.06.94zm10 10l.94 2.06.94-2.06 2.06-.94-2.06-.94-.94-2.06-.94 2.06-2.06.94z\"/><path d=\"M17.41 7.96l-1.37-1.37c-.4-.4-.92-.59-1.43-.59-.52 0-1.04.2-1.43.59L10.3 9.45l-7.72 7.72c-.78.78-.78 2.05 0 2.83L4 21.41c.39.39.9.59 1.41.59.51 0 1.02-.2 1.41-.59l7.78-7.78 2.81-2.81c.8-.78.8-2.07 0-2.86zM5.41 20L4 18.59l7.72-7.72 1.47 1.35L5.41 20z\"/>\n",
              "  </svg>\n",
              "      </button>\n",
              "      \n",
              "  <style>\n",
              "    .colab-df-container {\n",
              "      display:flex;\n",
              "      flex-wrap:wrap;\n",
              "      gap: 12px;\n",
              "    }\n",
              "\n",
              "    .colab-df-convert {\n",
              "      background-color: #E8F0FE;\n",
              "      border: none;\n",
              "      border-radius: 50%;\n",
              "      cursor: pointer;\n",
              "      display: none;\n",
              "      fill: #1967D2;\n",
              "      height: 32px;\n",
              "      padding: 0 0 0 0;\n",
              "      width: 32px;\n",
              "    }\n",
              "\n",
              "    .colab-df-convert:hover {\n",
              "      background-color: #E2EBFA;\n",
              "      box-shadow: 0px 1px 2px rgba(60, 64, 67, 0.3), 0px 1px 3px 1px rgba(60, 64, 67, 0.15);\n",
              "      fill: #174EA6;\n",
              "    }\n",
              "\n",
              "    [theme=dark] .colab-df-convert {\n",
              "      background-color: #3B4455;\n",
              "      fill: #D2E3FC;\n",
              "    }\n",
              "\n",
              "    [theme=dark] .colab-df-convert:hover {\n",
              "      background-color: #434B5C;\n",
              "      box-shadow: 0px 1px 3px 1px rgba(0, 0, 0, 0.15);\n",
              "      filter: drop-shadow(0px 1px 2px rgba(0, 0, 0, 0.3));\n",
              "      fill: #FFFFFF;\n",
              "    }\n",
              "  </style>\n",
              "\n",
              "      <script>\n",
              "        const buttonEl =\n",
              "          document.querySelector('#df-a7ee0f6a-9a56-4e33-b05c-374d1abb6a37 button.colab-df-convert');\n",
              "        buttonEl.style.display =\n",
              "          google.colab.kernel.accessAllowed ? 'block' : 'none';\n",
              "\n",
              "        async function convertToInteractive(key) {\n",
              "          const element = document.querySelector('#df-a7ee0f6a-9a56-4e33-b05c-374d1abb6a37');\n",
              "          const dataTable =\n",
              "            await google.colab.kernel.invokeFunction('convertToInteractive',\n",
              "                                                     [key], {});\n",
              "          if (!dataTable) return;\n",
              "\n",
              "          const docLinkHtml = 'Like what you see? Visit the ' +\n",
              "            '<a target=\"_blank\" href=https://colab.research.google.com/notebooks/data_table.ipynb>data table notebook</a>'\n",
              "            + ' to learn more about interactive tables.';\n",
              "          element.innerHTML = '';\n",
              "          dataTable['output_type'] = 'display_data';\n",
              "          await google.colab.output.renderOutput(dataTable, element);\n",
              "          const docLink = document.createElement('div');\n",
              "          docLink.innerHTML = docLinkHtml;\n",
              "          element.appendChild(docLink);\n",
              "        }\n",
              "      </script>\n",
              "    </div>\n",
              "  </div>\n",
              "  "
            ]
          },
          "metadata": {},
          "execution_count": 10
        }
      ]
    },
    {
      "cell_type": "code",
      "source": [
        "gs.info()"
      ],
      "metadata": {
        "colab": {
          "base_uri": "https://localhost:8080/"
        },
        "id": "cob_Jf-qVahM",
        "outputId": "31559027-9641-48a2-a8c4-386eecead119"
      },
      "execution_count": 11,
      "outputs": [
        {
          "output_type": "stream",
          "name": "stdout",
          "text": [
            "<class 'pandas.core.frame.DataFrame'>\n",
            "Int64Index: 8058 entries, 0 to 51287\n",
            "Data columns (total 24 columns):\n",
            " #   Column          Non-Null Count  Dtype  \n",
            "---  ------          --------------  -----  \n",
            " 0   row_id          8058 non-null   int64  \n",
            " 1   order_id        8058 non-null   object \n",
            " 2   order_date      8058 non-null   object \n",
            " 3   ship_date       8058 non-null   object \n",
            " 4   ship_mode       8058 non-null   object \n",
            " 5   customer_id     8058 non-null   object \n",
            " 6   customer_name   8058 non-null   object \n",
            " 7   segment         8058 non-null   object \n",
            " 8   city            8058 non-null   object \n",
            " 9   state           8058 non-null   object \n",
            " 10  country         8058 non-null   object \n",
            " 11  postal_code     8058 non-null   float64\n",
            " 12  market          8058 non-null   object \n",
            " 13  region          8058 non-null   object \n",
            " 14  product_id      8058 non-null   object \n",
            " 15  category        8058 non-null   object \n",
            " 16  sub_category    8058 non-null   object \n",
            " 17  product_name    8058 non-null   object \n",
            " 18  sales           8058 non-null   float64\n",
            " 19  quantity        8058 non-null   int64  \n",
            " 20  discount        8058 non-null   float64\n",
            " 21  profit          8058 non-null   float64\n",
            " 22  shipping_cost   8058 non-null   float64\n",
            " 23  order_priority  8058 non-null   object \n",
            "dtypes: float64(5), int64(2), object(17)\n",
            "memory usage: 1.5+ MB\n"
          ]
        }
      ]
    },
    {
      "cell_type": "markdown",
      "source": [
        "# NOMOR 1"
      ],
      "metadata": {
        "id": "GiF0zDU-mVme"
      }
    },
    {
      "cell_type": "markdown",
      "source": [
        "## A \n",
        "**Kategori barang seperti apa yang memiliki jumlah penjualan terbesar dan penyumbang profit terbesar? Ambil top 80% berdasarkan perhitungan Pareto**"
      ],
      "metadata": {
        "id": "9JBPV1E8mVmf"
      }
    },
    {
      "cell_type": "markdown",
      "source": [
        "**Kategori barang yang memiliki jumlah penjualan terbesar**"
      ],
      "metadata": {
        "id": "4OZywT97mVmg"
      }
    },
    {
      "cell_type": "code",
      "source": [
        "# create Sales\n",
        "gs[\"Sales\"] = (((1 - gs[\"discount\"]) * (gs[\"sales\"])) + (gs[\"shipping_cost\"])) * (gs[\"quantity\"])\n",
        "\n",
        "# Sum Sales for each category\n",
        "gs_CategorySales = gs.groupby('category', as_index=False).Sales.sum().sort_values(by='Sales', ascending = False)\n",
        "\n",
        "gs_CategorySales[\"cumpercentage\"] = gs_CategorySales[\"Sales\"].cumsum()/gs_CategorySales[\"Sales\"].sum()*100\n",
        "\n",
        "gs_CategorySales.head()"
      ],
      "metadata": {
        "colab": {
          "base_uri": "https://localhost:8080/",
          "height": 143
        },
        "id": "RB1FAth_LP1Y",
        "outputId": "a88270f7-6789-4d5e-f3b9-491956e8efc5"
      },
      "execution_count": 12,
      "outputs": [
        {
          "output_type": "execute_result",
          "data": {
            "text/plain": [
              "          category         Sales  cumpercentage\n",
              "2       Technology  3.532813e+06      37.992548\n",
              "1  Office Supplies  3.204432e+06      72.453627\n",
              "0        Furniture  2.561454e+06     100.000000"
            ],
            "text/html": [
              "\n",
              "  <div id=\"df-9ef50303-1110-46d4-a889-f42653cd3622\">\n",
              "    <div class=\"colab-df-container\">\n",
              "      <div>\n",
              "<style scoped>\n",
              "    .dataframe tbody tr th:only-of-type {\n",
              "        vertical-align: middle;\n",
              "    }\n",
              "\n",
              "    .dataframe tbody tr th {\n",
              "        vertical-align: top;\n",
              "    }\n",
              "\n",
              "    .dataframe thead th {\n",
              "        text-align: right;\n",
              "    }\n",
              "</style>\n",
              "<table border=\"1\" class=\"dataframe\">\n",
              "  <thead>\n",
              "    <tr style=\"text-align: right;\">\n",
              "      <th></th>\n",
              "      <th>category</th>\n",
              "      <th>Sales</th>\n",
              "      <th>cumpercentage</th>\n",
              "    </tr>\n",
              "  </thead>\n",
              "  <tbody>\n",
              "    <tr>\n",
              "      <th>2</th>\n",
              "      <td>Technology</td>\n",
              "      <td>3.532813e+06</td>\n",
              "      <td>37.992548</td>\n",
              "    </tr>\n",
              "    <tr>\n",
              "      <th>1</th>\n",
              "      <td>Office Supplies</td>\n",
              "      <td>3.204432e+06</td>\n",
              "      <td>72.453627</td>\n",
              "    </tr>\n",
              "    <tr>\n",
              "      <th>0</th>\n",
              "      <td>Furniture</td>\n",
              "      <td>2.561454e+06</td>\n",
              "      <td>100.000000</td>\n",
              "    </tr>\n",
              "  </tbody>\n",
              "</table>\n",
              "</div>\n",
              "      <button class=\"colab-df-convert\" onclick=\"convertToInteractive('df-9ef50303-1110-46d4-a889-f42653cd3622')\"\n",
              "              title=\"Convert this dataframe to an interactive table.\"\n",
              "              style=\"display:none;\">\n",
              "        \n",
              "  <svg xmlns=\"http://www.w3.org/2000/svg\" height=\"24px\"viewBox=\"0 0 24 24\"\n",
              "       width=\"24px\">\n",
              "    <path d=\"M0 0h24v24H0V0z\" fill=\"none\"/>\n",
              "    <path d=\"M18.56 5.44l.94 2.06.94-2.06 2.06-.94-2.06-.94-.94-2.06-.94 2.06-2.06.94zm-11 1L8.5 8.5l.94-2.06 2.06-.94-2.06-.94L8.5 2.5l-.94 2.06-2.06.94zm10 10l.94 2.06.94-2.06 2.06-.94-2.06-.94-.94-2.06-.94 2.06-2.06.94z\"/><path d=\"M17.41 7.96l-1.37-1.37c-.4-.4-.92-.59-1.43-.59-.52 0-1.04.2-1.43.59L10.3 9.45l-7.72 7.72c-.78.78-.78 2.05 0 2.83L4 21.41c.39.39.9.59 1.41.59.51 0 1.02-.2 1.41-.59l7.78-7.78 2.81-2.81c.8-.78.8-2.07 0-2.86zM5.41 20L4 18.59l7.72-7.72 1.47 1.35L5.41 20z\"/>\n",
              "  </svg>\n",
              "      </button>\n",
              "      \n",
              "  <style>\n",
              "    .colab-df-container {\n",
              "      display:flex;\n",
              "      flex-wrap:wrap;\n",
              "      gap: 12px;\n",
              "    }\n",
              "\n",
              "    .colab-df-convert {\n",
              "      background-color: #E8F0FE;\n",
              "      border: none;\n",
              "      border-radius: 50%;\n",
              "      cursor: pointer;\n",
              "      display: none;\n",
              "      fill: #1967D2;\n",
              "      height: 32px;\n",
              "      padding: 0 0 0 0;\n",
              "      width: 32px;\n",
              "    }\n",
              "\n",
              "    .colab-df-convert:hover {\n",
              "      background-color: #E2EBFA;\n",
              "      box-shadow: 0px 1px 2px rgba(60, 64, 67, 0.3), 0px 1px 3px 1px rgba(60, 64, 67, 0.15);\n",
              "      fill: #174EA6;\n",
              "    }\n",
              "\n",
              "    [theme=dark] .colab-df-convert {\n",
              "      background-color: #3B4455;\n",
              "      fill: #D2E3FC;\n",
              "    }\n",
              "\n",
              "    [theme=dark] .colab-df-convert:hover {\n",
              "      background-color: #434B5C;\n",
              "      box-shadow: 0px 1px 3px 1px rgba(0, 0, 0, 0.15);\n",
              "      filter: drop-shadow(0px 1px 2px rgba(0, 0, 0, 0.3));\n",
              "      fill: #FFFFFF;\n",
              "    }\n",
              "  </style>\n",
              "\n",
              "      <script>\n",
              "        const buttonEl =\n",
              "          document.querySelector('#df-9ef50303-1110-46d4-a889-f42653cd3622 button.colab-df-convert');\n",
              "        buttonEl.style.display =\n",
              "          google.colab.kernel.accessAllowed ? 'block' : 'none';\n",
              "\n",
              "        async function convertToInteractive(key) {\n",
              "          const element = document.querySelector('#df-9ef50303-1110-46d4-a889-f42653cd3622');\n",
              "          const dataTable =\n",
              "            await google.colab.kernel.invokeFunction('convertToInteractive',\n",
              "                                                     [key], {});\n",
              "          if (!dataTable) return;\n",
              "\n",
              "          const docLinkHtml = 'Like what you see? Visit the ' +\n",
              "            '<a target=\"_blank\" href=https://colab.research.google.com/notebooks/data_table.ipynb>data table notebook</a>'\n",
              "            + ' to learn more about interactive tables.';\n",
              "          element.innerHTML = '';\n",
              "          dataTable['output_type'] = 'display_data';\n",
              "          await google.colab.output.renderOutput(dataTable, element);\n",
              "          const docLink = document.createElement('div');\n",
              "          docLink.innerHTML = docLinkHtml;\n",
              "          element.appendChild(docLink);\n",
              "        }\n",
              "      </script>\n",
              "    </div>\n",
              "  </div>\n",
              "  "
            ]
          },
          "metadata": {},
          "execution_count": 12
        }
      ]
    },
    {
      "cell_type": "markdown",
      "source": [
        "Berdasarkan perhitungan Pareto, 80% jumlah penjualan berasal dari semua kategori"
      ],
      "metadata": {
        "id": "qNaUo4_eH9oP"
      }
    },
    {
      "cell_type": "markdown",
      "source": [
        "**Kategori barang yang memiliki profit terbesar**"
      ],
      "metadata": {
        "id": "EzP71AQamVmi"
      }
    },
    {
      "cell_type": "code",
      "source": [
        "# create Profit\n",
        "gs[\"Profit\"] = (gs[\"profit\"]) * (gs[\"quantity\"]) \n",
        "\n",
        "# Sum Profit for each category\n",
        "gs_CategoryProfit = gs.groupby('category', as_index=False).Profit.sum().sort_values(by='Profit', ascending = False)\n",
        "\n",
        "gs_CategoryProfit[\"cumpercentage\"] = gs_CategoryProfit[\"Profit\"].cumsum()/gs_CategoryProfit[\"Profit\"].sum()*100\n",
        "\n",
        "gs_CategoryProfit.head()"
      ],
      "metadata": {
        "colab": {
          "base_uri": "https://localhost:8080/",
          "height": 143
        },
        "outputId": "2dca11ae-4457-4522-d24c-bed476181992",
        "id": "8HtrpsO9mVmi"
      },
      "execution_count": 13,
      "outputs": [
        {
          "output_type": "execute_result",
          "data": {
            "text/plain": [
              "          category       Profit  cumpercentage\n",
              "1  Office Supplies  898696.2037      40.603062\n",
              "2       Technology  887756.6469      80.711874\n",
              "0        Furniture  426917.6908     100.000000"
            ],
            "text/html": [
              "\n",
              "  <div id=\"df-83b7d18b-f280-4814-8a4b-7a77013b8dd3\">\n",
              "    <div class=\"colab-df-container\">\n",
              "      <div>\n",
              "<style scoped>\n",
              "    .dataframe tbody tr th:only-of-type {\n",
              "        vertical-align: middle;\n",
              "    }\n",
              "\n",
              "    .dataframe tbody tr th {\n",
              "        vertical-align: top;\n",
              "    }\n",
              "\n",
              "    .dataframe thead th {\n",
              "        text-align: right;\n",
              "    }\n",
              "</style>\n",
              "<table border=\"1\" class=\"dataframe\">\n",
              "  <thead>\n",
              "    <tr style=\"text-align: right;\">\n",
              "      <th></th>\n",
              "      <th>category</th>\n",
              "      <th>Profit</th>\n",
              "      <th>cumpercentage</th>\n",
              "    </tr>\n",
              "  </thead>\n",
              "  <tbody>\n",
              "    <tr>\n",
              "      <th>1</th>\n",
              "      <td>Office Supplies</td>\n",
              "      <td>898696.2037</td>\n",
              "      <td>40.603062</td>\n",
              "    </tr>\n",
              "    <tr>\n",
              "      <th>2</th>\n",
              "      <td>Technology</td>\n",
              "      <td>887756.6469</td>\n",
              "      <td>80.711874</td>\n",
              "    </tr>\n",
              "    <tr>\n",
              "      <th>0</th>\n",
              "      <td>Furniture</td>\n",
              "      <td>426917.6908</td>\n",
              "      <td>100.000000</td>\n",
              "    </tr>\n",
              "  </tbody>\n",
              "</table>\n",
              "</div>\n",
              "      <button class=\"colab-df-convert\" onclick=\"convertToInteractive('df-83b7d18b-f280-4814-8a4b-7a77013b8dd3')\"\n",
              "              title=\"Convert this dataframe to an interactive table.\"\n",
              "              style=\"display:none;\">\n",
              "        \n",
              "  <svg xmlns=\"http://www.w3.org/2000/svg\" height=\"24px\"viewBox=\"0 0 24 24\"\n",
              "       width=\"24px\">\n",
              "    <path d=\"M0 0h24v24H0V0z\" fill=\"none\"/>\n",
              "    <path d=\"M18.56 5.44l.94 2.06.94-2.06 2.06-.94-2.06-.94-.94-2.06-.94 2.06-2.06.94zm-11 1L8.5 8.5l.94-2.06 2.06-.94-2.06-.94L8.5 2.5l-.94 2.06-2.06.94zm10 10l.94 2.06.94-2.06 2.06-.94-2.06-.94-.94-2.06-.94 2.06-2.06.94z\"/><path d=\"M17.41 7.96l-1.37-1.37c-.4-.4-.92-.59-1.43-.59-.52 0-1.04.2-1.43.59L10.3 9.45l-7.72 7.72c-.78.78-.78 2.05 0 2.83L4 21.41c.39.39.9.59 1.41.59.51 0 1.02-.2 1.41-.59l7.78-7.78 2.81-2.81c.8-.78.8-2.07 0-2.86zM5.41 20L4 18.59l7.72-7.72 1.47 1.35L5.41 20z\"/>\n",
              "  </svg>\n",
              "      </button>\n",
              "      \n",
              "  <style>\n",
              "    .colab-df-container {\n",
              "      display:flex;\n",
              "      flex-wrap:wrap;\n",
              "      gap: 12px;\n",
              "    }\n",
              "\n",
              "    .colab-df-convert {\n",
              "      background-color: #E8F0FE;\n",
              "      border: none;\n",
              "      border-radius: 50%;\n",
              "      cursor: pointer;\n",
              "      display: none;\n",
              "      fill: #1967D2;\n",
              "      height: 32px;\n",
              "      padding: 0 0 0 0;\n",
              "      width: 32px;\n",
              "    }\n",
              "\n",
              "    .colab-df-convert:hover {\n",
              "      background-color: #E2EBFA;\n",
              "      box-shadow: 0px 1px 2px rgba(60, 64, 67, 0.3), 0px 1px 3px 1px rgba(60, 64, 67, 0.15);\n",
              "      fill: #174EA6;\n",
              "    }\n",
              "\n",
              "    [theme=dark] .colab-df-convert {\n",
              "      background-color: #3B4455;\n",
              "      fill: #D2E3FC;\n",
              "    }\n",
              "\n",
              "    [theme=dark] .colab-df-convert:hover {\n",
              "      background-color: #434B5C;\n",
              "      box-shadow: 0px 1px 3px 1px rgba(0, 0, 0, 0.15);\n",
              "      filter: drop-shadow(0px 1px 2px rgba(0, 0, 0, 0.3));\n",
              "      fill: #FFFFFF;\n",
              "    }\n",
              "  </style>\n",
              "\n",
              "      <script>\n",
              "        const buttonEl =\n",
              "          document.querySelector('#df-83b7d18b-f280-4814-8a4b-7a77013b8dd3 button.colab-df-convert');\n",
              "        buttonEl.style.display =\n",
              "          google.colab.kernel.accessAllowed ? 'block' : 'none';\n",
              "\n",
              "        async function convertToInteractive(key) {\n",
              "          const element = document.querySelector('#df-83b7d18b-f280-4814-8a4b-7a77013b8dd3');\n",
              "          const dataTable =\n",
              "            await google.colab.kernel.invokeFunction('convertToInteractive',\n",
              "                                                     [key], {});\n",
              "          if (!dataTable) return;\n",
              "\n",
              "          const docLinkHtml = 'Like what you see? Visit the ' +\n",
              "            '<a target=\"_blank\" href=https://colab.research.google.com/notebooks/data_table.ipynb>data table notebook</a>'\n",
              "            + ' to learn more about interactive tables.';\n",
              "          element.innerHTML = '';\n",
              "          dataTable['output_type'] = 'display_data';\n",
              "          await google.colab.output.renderOutput(dataTable, element);\n",
              "          const docLink = document.createElement('div');\n",
              "          docLink.innerHTML = docLinkHtml;\n",
              "          element.appendChild(docLink);\n",
              "        }\n",
              "      </script>\n",
              "    </div>\n",
              "  </div>\n",
              "  "
            ]
          },
          "metadata": {},
          "execution_count": 13
        }
      ]
    },
    {
      "cell_type": "markdown",
      "source": [
        "Berdasarkan perhitungan Pareto, 80% profit berasal dari kategori Office Supplies dan Technology"
      ],
      "metadata": {
        "id": "itCxc2kdIdsV"
      }
    },
    {
      "cell_type": "markdown",
      "source": [
        "## B\n",
        "**Subkategori apa yang memiliki penjualan dan profit terbesar? Ambil top 80% berdasarkan perhitungan Pareto**"
      ],
      "metadata": {
        "id": "ZL-aAjz0mVmj"
      }
    },
    {
      "cell_type": "markdown",
      "source": [
        "**Subkategori barang yang memiliki jumlah penjualan terbesar**"
      ],
      "metadata": {
        "id": "r1HSjmUjmVmj"
      }
    },
    {
      "cell_type": "code",
      "source": [
        "# Sum Sales for each sub_category\n",
        "gs_SubcategorySales = gs.groupby('sub_category', as_index=False).Sales.sum().sort_values(by='Sales', ascending = False)\n",
        "\n",
        "gs_SubcategorySales[\"cumpercentage\"] = gs_SubcategorySales[\"Sales\"].cumsum()/gs_SubcategorySales[\"Sales\"].sum()*100\n",
        "\n",
        "gs_SubcategorySales.head(9)"
      ],
      "metadata": {
        "colab": {
          "base_uri": "https://localhost:8080/",
          "height": 331
        },
        "outputId": "b14039d2-930f-4133-f6e8-ac3be2a4b0ab",
        "id": "_nv-fU4LmVmj"
      },
      "execution_count": 14,
      "outputs": [
        {
          "output_type": "execute_result",
          "data": {
            "text/plain": [
              "   sub_category         Sales  cumpercentage\n",
              "13       Phones  1.450370e+06      15.597561\n",
              "5        Chairs  1.170249e+06      28.182638\n",
              "14      Storage  9.478287e+05      38.375770\n",
              "0   Accessories  8.907075e+05      47.954609\n",
              "3       Binders  8.206460e+05      56.779994\n",
              "6       Copiers  6.326838e+05      63.583998\n",
              "16       Tables  6.249296e+05      70.304611\n",
              "1    Appliances  5.700577e+05      76.435121\n",
              "11     Machines  5.590513e+05      82.447266"
            ],
            "text/html": [
              "\n",
              "  <div id=\"df-f381eac3-863b-46b7-995d-12ba83d0239c\">\n",
              "    <div class=\"colab-df-container\">\n",
              "      <div>\n",
              "<style scoped>\n",
              "    .dataframe tbody tr th:only-of-type {\n",
              "        vertical-align: middle;\n",
              "    }\n",
              "\n",
              "    .dataframe tbody tr th {\n",
              "        vertical-align: top;\n",
              "    }\n",
              "\n",
              "    .dataframe thead th {\n",
              "        text-align: right;\n",
              "    }\n",
              "</style>\n",
              "<table border=\"1\" class=\"dataframe\">\n",
              "  <thead>\n",
              "    <tr style=\"text-align: right;\">\n",
              "      <th></th>\n",
              "      <th>sub_category</th>\n",
              "      <th>Sales</th>\n",
              "      <th>cumpercentage</th>\n",
              "    </tr>\n",
              "  </thead>\n",
              "  <tbody>\n",
              "    <tr>\n",
              "      <th>13</th>\n",
              "      <td>Phones</td>\n",
              "      <td>1.450370e+06</td>\n",
              "      <td>15.597561</td>\n",
              "    </tr>\n",
              "    <tr>\n",
              "      <th>5</th>\n",
              "      <td>Chairs</td>\n",
              "      <td>1.170249e+06</td>\n",
              "      <td>28.182638</td>\n",
              "    </tr>\n",
              "    <tr>\n",
              "      <th>14</th>\n",
              "      <td>Storage</td>\n",
              "      <td>9.478287e+05</td>\n",
              "      <td>38.375770</td>\n",
              "    </tr>\n",
              "    <tr>\n",
              "      <th>0</th>\n",
              "      <td>Accessories</td>\n",
              "      <td>8.907075e+05</td>\n",
              "      <td>47.954609</td>\n",
              "    </tr>\n",
              "    <tr>\n",
              "      <th>3</th>\n",
              "      <td>Binders</td>\n",
              "      <td>8.206460e+05</td>\n",
              "      <td>56.779994</td>\n",
              "    </tr>\n",
              "    <tr>\n",
              "      <th>6</th>\n",
              "      <td>Copiers</td>\n",
              "      <td>6.326838e+05</td>\n",
              "      <td>63.583998</td>\n",
              "    </tr>\n",
              "    <tr>\n",
              "      <th>16</th>\n",
              "      <td>Tables</td>\n",
              "      <td>6.249296e+05</td>\n",
              "      <td>70.304611</td>\n",
              "    </tr>\n",
              "    <tr>\n",
              "      <th>1</th>\n",
              "      <td>Appliances</td>\n",
              "      <td>5.700577e+05</td>\n",
              "      <td>76.435121</td>\n",
              "    </tr>\n",
              "    <tr>\n",
              "      <th>11</th>\n",
              "      <td>Machines</td>\n",
              "      <td>5.590513e+05</td>\n",
              "      <td>82.447266</td>\n",
              "    </tr>\n",
              "  </tbody>\n",
              "</table>\n",
              "</div>\n",
              "      <button class=\"colab-df-convert\" onclick=\"convertToInteractive('df-f381eac3-863b-46b7-995d-12ba83d0239c')\"\n",
              "              title=\"Convert this dataframe to an interactive table.\"\n",
              "              style=\"display:none;\">\n",
              "        \n",
              "  <svg xmlns=\"http://www.w3.org/2000/svg\" height=\"24px\"viewBox=\"0 0 24 24\"\n",
              "       width=\"24px\">\n",
              "    <path d=\"M0 0h24v24H0V0z\" fill=\"none\"/>\n",
              "    <path d=\"M18.56 5.44l.94 2.06.94-2.06 2.06-.94-2.06-.94-.94-2.06-.94 2.06-2.06.94zm-11 1L8.5 8.5l.94-2.06 2.06-.94-2.06-.94L8.5 2.5l-.94 2.06-2.06.94zm10 10l.94 2.06.94-2.06 2.06-.94-2.06-.94-.94-2.06-.94 2.06-2.06.94z\"/><path d=\"M17.41 7.96l-1.37-1.37c-.4-.4-.92-.59-1.43-.59-.52 0-1.04.2-1.43.59L10.3 9.45l-7.72 7.72c-.78.78-.78 2.05 0 2.83L4 21.41c.39.39.9.59 1.41.59.51 0 1.02-.2 1.41-.59l7.78-7.78 2.81-2.81c.8-.78.8-2.07 0-2.86zM5.41 20L4 18.59l7.72-7.72 1.47 1.35L5.41 20z\"/>\n",
              "  </svg>\n",
              "      </button>\n",
              "      \n",
              "  <style>\n",
              "    .colab-df-container {\n",
              "      display:flex;\n",
              "      flex-wrap:wrap;\n",
              "      gap: 12px;\n",
              "    }\n",
              "\n",
              "    .colab-df-convert {\n",
              "      background-color: #E8F0FE;\n",
              "      border: none;\n",
              "      border-radius: 50%;\n",
              "      cursor: pointer;\n",
              "      display: none;\n",
              "      fill: #1967D2;\n",
              "      height: 32px;\n",
              "      padding: 0 0 0 0;\n",
              "      width: 32px;\n",
              "    }\n",
              "\n",
              "    .colab-df-convert:hover {\n",
              "      background-color: #E2EBFA;\n",
              "      box-shadow: 0px 1px 2px rgba(60, 64, 67, 0.3), 0px 1px 3px 1px rgba(60, 64, 67, 0.15);\n",
              "      fill: #174EA6;\n",
              "    }\n",
              "\n",
              "    [theme=dark] .colab-df-convert {\n",
              "      background-color: #3B4455;\n",
              "      fill: #D2E3FC;\n",
              "    }\n",
              "\n",
              "    [theme=dark] .colab-df-convert:hover {\n",
              "      background-color: #434B5C;\n",
              "      box-shadow: 0px 1px 3px 1px rgba(0, 0, 0, 0.15);\n",
              "      filter: drop-shadow(0px 1px 2px rgba(0, 0, 0, 0.3));\n",
              "      fill: #FFFFFF;\n",
              "    }\n",
              "  </style>\n",
              "\n",
              "      <script>\n",
              "        const buttonEl =\n",
              "          document.querySelector('#df-f381eac3-863b-46b7-995d-12ba83d0239c button.colab-df-convert');\n",
              "        buttonEl.style.display =\n",
              "          google.colab.kernel.accessAllowed ? 'block' : 'none';\n",
              "\n",
              "        async function convertToInteractive(key) {\n",
              "          const element = document.querySelector('#df-f381eac3-863b-46b7-995d-12ba83d0239c');\n",
              "          const dataTable =\n",
              "            await google.colab.kernel.invokeFunction('convertToInteractive',\n",
              "                                                     [key], {});\n",
              "          if (!dataTable) return;\n",
              "\n",
              "          const docLinkHtml = 'Like what you see? Visit the ' +\n",
              "            '<a target=\"_blank\" href=https://colab.research.google.com/notebooks/data_table.ipynb>data table notebook</a>'\n",
              "            + ' to learn more about interactive tables.';\n",
              "          element.innerHTML = '';\n",
              "          dataTable['output_type'] = 'display_data';\n",
              "          await google.colab.output.renderOutput(dataTable, element);\n",
              "          const docLink = document.createElement('div');\n",
              "          docLink.innerHTML = docLinkHtml;\n",
              "          element.appendChild(docLink);\n",
              "        }\n",
              "      </script>\n",
              "    </div>\n",
              "  </div>\n",
              "  "
            ]
          },
          "metadata": {},
          "execution_count": 14
        }
      ]
    },
    {
      "cell_type": "markdown",
      "source": [
        "Berdasarkan perhitungan Pareto, 80% penjualan berasal dari sub category diatas. Oleh karena itu fokus pemasarannya hanya pada sub category diatas saja untuk mendapatkan 80% dari penjualan dan sub category lainnya bisa diabaikan."
      ],
      "metadata": {
        "id": "-JrcI2B4XLEB"
      }
    },
    {
      "cell_type": "markdown",
      "source": [
        "**Subkategori barang yang memiliki profit terbesar**"
      ],
      "metadata": {
        "id": "USNpwf07mVmk"
      }
    },
    {
      "cell_type": "code",
      "source": [
        "# Sum Profit for each sub_category\n",
        "gs_SubcategoryProfit = gs.groupby('sub_category', as_index=False).Profit.sum().sort_values(by='Profit', ascending = False)\n",
        "\n",
        "gs_SubcategoryProfit[\"cumpercentage\"] = gs_SubcategoryProfit[\"Profit\"].cumsum()/gs_SubcategoryProfit[\"Profit\"].sum()*100\n",
        "\n",
        "gs_SubcategoryProfit.head(9)"
      ],
      "metadata": {
        "colab": {
          "base_uri": "https://localhost:8080/",
          "height": 331
        },
        "outputId": "2c6ffddc-04cc-4833-cb3c-552510f09210",
        "id": "euYBW4sumVmk"
      },
      "execution_count": 15,
      "outputs": [
        {
          "output_type": "execute_result",
          "data": {
            "text/plain": [
              "   sub_category       Profit  cumpercentage\n",
              "3       Binders  342034.4273      15.453103\n",
              "13       Phones  252975.2523      26.882516\n",
              "6       Copiers  251546.3027      38.247368\n",
              "0   Accessories  218899.5486      48.137242\n",
              "5        Chairs  196972.7612      57.036464\n",
              "12        Paper  168006.8437      64.627007\n",
              "11     Machines  164335.5433      72.051681\n",
              "14      Storage  142270.8472      78.479473\n",
              "1    Appliances  137963.0916      84.712640"
            ],
            "text/html": [
              "\n",
              "  <div id=\"df-f4227841-957e-4010-94b1-aa8481bc5016\">\n",
              "    <div class=\"colab-df-container\">\n",
              "      <div>\n",
              "<style scoped>\n",
              "    .dataframe tbody tr th:only-of-type {\n",
              "        vertical-align: middle;\n",
              "    }\n",
              "\n",
              "    .dataframe tbody tr th {\n",
              "        vertical-align: top;\n",
              "    }\n",
              "\n",
              "    .dataframe thead th {\n",
              "        text-align: right;\n",
              "    }\n",
              "</style>\n",
              "<table border=\"1\" class=\"dataframe\">\n",
              "  <thead>\n",
              "    <tr style=\"text-align: right;\">\n",
              "      <th></th>\n",
              "      <th>sub_category</th>\n",
              "      <th>Profit</th>\n",
              "      <th>cumpercentage</th>\n",
              "    </tr>\n",
              "  </thead>\n",
              "  <tbody>\n",
              "    <tr>\n",
              "      <th>3</th>\n",
              "      <td>Binders</td>\n",
              "      <td>342034.4273</td>\n",
              "      <td>15.453103</td>\n",
              "    </tr>\n",
              "    <tr>\n",
              "      <th>13</th>\n",
              "      <td>Phones</td>\n",
              "      <td>252975.2523</td>\n",
              "      <td>26.882516</td>\n",
              "    </tr>\n",
              "    <tr>\n",
              "      <th>6</th>\n",
              "      <td>Copiers</td>\n",
              "      <td>251546.3027</td>\n",
              "      <td>38.247368</td>\n",
              "    </tr>\n",
              "    <tr>\n",
              "      <th>0</th>\n",
              "      <td>Accessories</td>\n",
              "      <td>218899.5486</td>\n",
              "      <td>48.137242</td>\n",
              "    </tr>\n",
              "    <tr>\n",
              "      <th>5</th>\n",
              "      <td>Chairs</td>\n",
              "      <td>196972.7612</td>\n",
              "      <td>57.036464</td>\n",
              "    </tr>\n",
              "    <tr>\n",
              "      <th>12</th>\n",
              "      <td>Paper</td>\n",
              "      <td>168006.8437</td>\n",
              "      <td>64.627007</td>\n",
              "    </tr>\n",
              "    <tr>\n",
              "      <th>11</th>\n",
              "      <td>Machines</td>\n",
              "      <td>164335.5433</td>\n",
              "      <td>72.051681</td>\n",
              "    </tr>\n",
              "    <tr>\n",
              "      <th>14</th>\n",
              "      <td>Storage</td>\n",
              "      <td>142270.8472</td>\n",
              "      <td>78.479473</td>\n",
              "    </tr>\n",
              "    <tr>\n",
              "      <th>1</th>\n",
              "      <td>Appliances</td>\n",
              "      <td>137963.0916</td>\n",
              "      <td>84.712640</td>\n",
              "    </tr>\n",
              "  </tbody>\n",
              "</table>\n",
              "</div>\n",
              "      <button class=\"colab-df-convert\" onclick=\"convertToInteractive('df-f4227841-957e-4010-94b1-aa8481bc5016')\"\n",
              "              title=\"Convert this dataframe to an interactive table.\"\n",
              "              style=\"display:none;\">\n",
              "        \n",
              "  <svg xmlns=\"http://www.w3.org/2000/svg\" height=\"24px\"viewBox=\"0 0 24 24\"\n",
              "       width=\"24px\">\n",
              "    <path d=\"M0 0h24v24H0V0z\" fill=\"none\"/>\n",
              "    <path d=\"M18.56 5.44l.94 2.06.94-2.06 2.06-.94-2.06-.94-.94-2.06-.94 2.06-2.06.94zm-11 1L8.5 8.5l.94-2.06 2.06-.94-2.06-.94L8.5 2.5l-.94 2.06-2.06.94zm10 10l.94 2.06.94-2.06 2.06-.94-2.06-.94-.94-2.06-.94 2.06-2.06.94z\"/><path d=\"M17.41 7.96l-1.37-1.37c-.4-.4-.92-.59-1.43-.59-.52 0-1.04.2-1.43.59L10.3 9.45l-7.72 7.72c-.78.78-.78 2.05 0 2.83L4 21.41c.39.39.9.59 1.41.59.51 0 1.02-.2 1.41-.59l7.78-7.78 2.81-2.81c.8-.78.8-2.07 0-2.86zM5.41 20L4 18.59l7.72-7.72 1.47 1.35L5.41 20z\"/>\n",
              "  </svg>\n",
              "      </button>\n",
              "      \n",
              "  <style>\n",
              "    .colab-df-container {\n",
              "      display:flex;\n",
              "      flex-wrap:wrap;\n",
              "      gap: 12px;\n",
              "    }\n",
              "\n",
              "    .colab-df-convert {\n",
              "      background-color: #E8F0FE;\n",
              "      border: none;\n",
              "      border-radius: 50%;\n",
              "      cursor: pointer;\n",
              "      display: none;\n",
              "      fill: #1967D2;\n",
              "      height: 32px;\n",
              "      padding: 0 0 0 0;\n",
              "      width: 32px;\n",
              "    }\n",
              "\n",
              "    .colab-df-convert:hover {\n",
              "      background-color: #E2EBFA;\n",
              "      box-shadow: 0px 1px 2px rgba(60, 64, 67, 0.3), 0px 1px 3px 1px rgba(60, 64, 67, 0.15);\n",
              "      fill: #174EA6;\n",
              "    }\n",
              "\n",
              "    [theme=dark] .colab-df-convert {\n",
              "      background-color: #3B4455;\n",
              "      fill: #D2E3FC;\n",
              "    }\n",
              "\n",
              "    [theme=dark] .colab-df-convert:hover {\n",
              "      background-color: #434B5C;\n",
              "      box-shadow: 0px 1px 3px 1px rgba(0, 0, 0, 0.15);\n",
              "      filter: drop-shadow(0px 1px 2px rgba(0, 0, 0, 0.3));\n",
              "      fill: #FFFFFF;\n",
              "    }\n",
              "  </style>\n",
              "\n",
              "      <script>\n",
              "        const buttonEl =\n",
              "          document.querySelector('#df-f4227841-957e-4010-94b1-aa8481bc5016 button.colab-df-convert');\n",
              "        buttonEl.style.display =\n",
              "          google.colab.kernel.accessAllowed ? 'block' : 'none';\n",
              "\n",
              "        async function convertToInteractive(key) {\n",
              "          const element = document.querySelector('#df-f4227841-957e-4010-94b1-aa8481bc5016');\n",
              "          const dataTable =\n",
              "            await google.colab.kernel.invokeFunction('convertToInteractive',\n",
              "                                                     [key], {});\n",
              "          if (!dataTable) return;\n",
              "\n",
              "          const docLinkHtml = 'Like what you see? Visit the ' +\n",
              "            '<a target=\"_blank\" href=https://colab.research.google.com/notebooks/data_table.ipynb>data table notebook</a>'\n",
              "            + ' to learn more about interactive tables.';\n",
              "          element.innerHTML = '';\n",
              "          dataTable['output_type'] = 'display_data';\n",
              "          await google.colab.output.renderOutput(dataTable, element);\n",
              "          const docLink = document.createElement('div');\n",
              "          docLink.innerHTML = docLinkHtml;\n",
              "          element.appendChild(docLink);\n",
              "        }\n",
              "      </script>\n",
              "    </div>\n",
              "  </div>\n",
              "  "
            ]
          },
          "metadata": {},
          "execution_count": 15
        }
      ]
    },
    {
      "cell_type": "markdown",
      "source": [
        "Berdasarkan perhitungan Pareto, 80% profit berasal dari sub category diatas. Oleh karena itu fokus pemasarannya hanya pada sub category diatas saja untuk mendapatkan 80% dari profit yang didapatkan dan sub category lainnya bisa diabaikan."
      ],
      "metadata": {
        "id": "PQgY3j8bXoGg"
      }
    },
    {
      "cell_type": "markdown",
      "source": [
        "##C\n",
        "**Dari region manakah penyumbang profit terbesar? Ambil top 80% berdasarkan perhitungan Pareto**"
      ],
      "metadata": {
        "id": "nT40ZRPvmVmn"
      }
    },
    {
      "cell_type": "code",
      "source": [
        "# Sum Profit for each region\n",
        "gs_RegionProfit = gs.groupby('region', as_index=False).Profit.sum().sort_values(by='Profit', ascending = False)\n",
        "\n",
        "gs_RegionProfit[\"cumpercentage\"] = gs_RegionProfit[\"Profit\"].cumsum()/gs_RegionProfit[\"Profit\"].sum()*100\n",
        "\n",
        "gs_RegionProfit.head()"
      ],
      "metadata": {
        "colab": {
          "base_uri": "https://localhost:8080/",
          "height": 175
        },
        "outputId": "3f5953a4-09eb-4bde-e5e4-a6651115e5b5",
        "id": "oXPV7BYemVmn"
      },
      "execution_count": 16,
      "outputs": [
        {
          "output_type": "execute_result",
          "data": {
            "text/plain": [
              "    region       Profit  cumpercentage\n",
              "1     East  692040.1235      31.266347\n",
              "3     West  643502.0268      60.339745\n",
              "0  Central  499166.0619      82.892050\n",
              "2    South  378662.3292     100.000000"
            ],
            "text/html": [
              "\n",
              "  <div id=\"df-3c2ae076-ebb7-484b-befd-ffa82c5fa7c7\">\n",
              "    <div class=\"colab-df-container\">\n",
              "      <div>\n",
              "<style scoped>\n",
              "    .dataframe tbody tr th:only-of-type {\n",
              "        vertical-align: middle;\n",
              "    }\n",
              "\n",
              "    .dataframe tbody tr th {\n",
              "        vertical-align: top;\n",
              "    }\n",
              "\n",
              "    .dataframe thead th {\n",
              "        text-align: right;\n",
              "    }\n",
              "</style>\n",
              "<table border=\"1\" class=\"dataframe\">\n",
              "  <thead>\n",
              "    <tr style=\"text-align: right;\">\n",
              "      <th></th>\n",
              "      <th>region</th>\n",
              "      <th>Profit</th>\n",
              "      <th>cumpercentage</th>\n",
              "    </tr>\n",
              "  </thead>\n",
              "  <tbody>\n",
              "    <tr>\n",
              "      <th>1</th>\n",
              "      <td>East</td>\n",
              "      <td>692040.1235</td>\n",
              "      <td>31.266347</td>\n",
              "    </tr>\n",
              "    <tr>\n",
              "      <th>3</th>\n",
              "      <td>West</td>\n",
              "      <td>643502.0268</td>\n",
              "      <td>60.339745</td>\n",
              "    </tr>\n",
              "    <tr>\n",
              "      <th>0</th>\n",
              "      <td>Central</td>\n",
              "      <td>499166.0619</td>\n",
              "      <td>82.892050</td>\n",
              "    </tr>\n",
              "    <tr>\n",
              "      <th>2</th>\n",
              "      <td>South</td>\n",
              "      <td>378662.3292</td>\n",
              "      <td>100.000000</td>\n",
              "    </tr>\n",
              "  </tbody>\n",
              "</table>\n",
              "</div>\n",
              "      <button class=\"colab-df-convert\" onclick=\"convertToInteractive('df-3c2ae076-ebb7-484b-befd-ffa82c5fa7c7')\"\n",
              "              title=\"Convert this dataframe to an interactive table.\"\n",
              "              style=\"display:none;\">\n",
              "        \n",
              "  <svg xmlns=\"http://www.w3.org/2000/svg\" height=\"24px\"viewBox=\"0 0 24 24\"\n",
              "       width=\"24px\">\n",
              "    <path d=\"M0 0h24v24H0V0z\" fill=\"none\"/>\n",
              "    <path d=\"M18.56 5.44l.94 2.06.94-2.06 2.06-.94-2.06-.94-.94-2.06-.94 2.06-2.06.94zm-11 1L8.5 8.5l.94-2.06 2.06-.94-2.06-.94L8.5 2.5l-.94 2.06-2.06.94zm10 10l.94 2.06.94-2.06 2.06-.94-2.06-.94-.94-2.06-.94 2.06-2.06.94z\"/><path d=\"M17.41 7.96l-1.37-1.37c-.4-.4-.92-.59-1.43-.59-.52 0-1.04.2-1.43.59L10.3 9.45l-7.72 7.72c-.78.78-.78 2.05 0 2.83L4 21.41c.39.39.9.59 1.41.59.51 0 1.02-.2 1.41-.59l7.78-7.78 2.81-2.81c.8-.78.8-2.07 0-2.86zM5.41 20L4 18.59l7.72-7.72 1.47 1.35L5.41 20z\"/>\n",
              "  </svg>\n",
              "      </button>\n",
              "      \n",
              "  <style>\n",
              "    .colab-df-container {\n",
              "      display:flex;\n",
              "      flex-wrap:wrap;\n",
              "      gap: 12px;\n",
              "    }\n",
              "\n",
              "    .colab-df-convert {\n",
              "      background-color: #E8F0FE;\n",
              "      border: none;\n",
              "      border-radius: 50%;\n",
              "      cursor: pointer;\n",
              "      display: none;\n",
              "      fill: #1967D2;\n",
              "      height: 32px;\n",
              "      padding: 0 0 0 0;\n",
              "      width: 32px;\n",
              "    }\n",
              "\n",
              "    .colab-df-convert:hover {\n",
              "      background-color: #E2EBFA;\n",
              "      box-shadow: 0px 1px 2px rgba(60, 64, 67, 0.3), 0px 1px 3px 1px rgba(60, 64, 67, 0.15);\n",
              "      fill: #174EA6;\n",
              "    }\n",
              "\n",
              "    [theme=dark] .colab-df-convert {\n",
              "      background-color: #3B4455;\n",
              "      fill: #D2E3FC;\n",
              "    }\n",
              "\n",
              "    [theme=dark] .colab-df-convert:hover {\n",
              "      background-color: #434B5C;\n",
              "      box-shadow: 0px 1px 3px 1px rgba(0, 0, 0, 0.15);\n",
              "      filter: drop-shadow(0px 1px 2px rgba(0, 0, 0, 0.3));\n",
              "      fill: #FFFFFF;\n",
              "    }\n",
              "  </style>\n",
              "\n",
              "      <script>\n",
              "        const buttonEl =\n",
              "          document.querySelector('#df-3c2ae076-ebb7-484b-befd-ffa82c5fa7c7 button.colab-df-convert');\n",
              "        buttonEl.style.display =\n",
              "          google.colab.kernel.accessAllowed ? 'block' : 'none';\n",
              "\n",
              "        async function convertToInteractive(key) {\n",
              "          const element = document.querySelector('#df-3c2ae076-ebb7-484b-befd-ffa82c5fa7c7');\n",
              "          const dataTable =\n",
              "            await google.colab.kernel.invokeFunction('convertToInteractive',\n",
              "                                                     [key], {});\n",
              "          if (!dataTable) return;\n",
              "\n",
              "          const docLinkHtml = 'Like what you see? Visit the ' +\n",
              "            '<a target=\"_blank\" href=https://colab.research.google.com/notebooks/data_table.ipynb>data table notebook</a>'\n",
              "            + ' to learn more about interactive tables.';\n",
              "          element.innerHTML = '';\n",
              "          dataTable['output_type'] = 'display_data';\n",
              "          await google.colab.output.renderOutput(dataTable, element);\n",
              "          const docLink = document.createElement('div');\n",
              "          docLink.innerHTML = docLinkHtml;\n",
              "          element.appendChild(docLink);\n",
              "        }\n",
              "      </script>\n",
              "    </div>\n",
              "  </div>\n",
              "  "
            ]
          },
          "metadata": {},
          "execution_count": 16
        }
      ]
    },
    {
      "cell_type": "markdown",
      "source": [
        "Berdasarkan perhitungan Pareto, 80% profit berasal dari region East, Central, dan West"
      ],
      "metadata": {
        "id": "6wZAags-Xyu2"
      }
    },
    {
      "cell_type": "markdown",
      "source": [
        "##D\n",
        "**Kota mana saja penyumbang profit terbesar? Ambil top 80% berdasarkan perhitungan Pareto**"
      ],
      "metadata": {
        "id": "xvPgERtPmVmo"
      }
    },
    {
      "cell_type": "code",
      "source": [
        "# Sum Profit for each city\n",
        "gs_CityProfit = gs.groupby('city', as_index=False).Profit.sum().sort_values(by='Profit', ascending = False)\n",
        "\n",
        "gs_CityProfit[\"cumpercentage\"] = gs_CityProfit[\"Profit\"].cumsum()/gs_CityProfit[\"Profit\"].sum()*100\n",
        "\n",
        "gs_CityProfit.head(66)"
      ],
      "metadata": {
        "colab": {
          "base_uri": "https://localhost:8080/",
          "height": 423
        },
        "outputId": "e9a5f91d-6543-4d81-ba35-724d4fd835a3",
        "id": "LIQiJLzzmVmo"
      },
      "execution_count": 17,
      "outputs": [
        {
          "output_type": "execute_result",
          "data": {
            "text/plain": [
              "              city       Profit  cumpercentage\n",
              "320  New York City  321851.9727      14.541260\n",
              "258    Los Angeles  156350.7125      21.605180\n",
              "435        Seattle  146841.6950      28.239482\n",
              "118        Detroit  100688.4130      32.788581\n",
              "422  San Francisco   90887.6415      36.894881\n",
              "..             ...          ...            ...\n",
              "36      Bellingham    5826.7522      79.128400\n",
              "335  Oklahoma City    5613.5835      79.382022\n",
              "153         Fresno    5581.2115      79.634181\n",
              "148     Fort Worth    5569.0989      79.885792\n",
              "454    Tallahassee    5502.7437      80.134406\n",
              "\n",
              "[66 rows x 3 columns]"
            ],
            "text/html": [
              "\n",
              "  <div id=\"df-0e5afc80-6750-49d2-98ae-67d71f13cb6b\">\n",
              "    <div class=\"colab-df-container\">\n",
              "      <div>\n",
              "<style scoped>\n",
              "    .dataframe tbody tr th:only-of-type {\n",
              "        vertical-align: middle;\n",
              "    }\n",
              "\n",
              "    .dataframe tbody tr th {\n",
              "        vertical-align: top;\n",
              "    }\n",
              "\n",
              "    .dataframe thead th {\n",
              "        text-align: right;\n",
              "    }\n",
              "</style>\n",
              "<table border=\"1\" class=\"dataframe\">\n",
              "  <thead>\n",
              "    <tr style=\"text-align: right;\">\n",
              "      <th></th>\n",
              "      <th>city</th>\n",
              "      <th>Profit</th>\n",
              "      <th>cumpercentage</th>\n",
              "    </tr>\n",
              "  </thead>\n",
              "  <tbody>\n",
              "    <tr>\n",
              "      <th>320</th>\n",
              "      <td>New York City</td>\n",
              "      <td>321851.9727</td>\n",
              "      <td>14.541260</td>\n",
              "    </tr>\n",
              "    <tr>\n",
              "      <th>258</th>\n",
              "      <td>Los Angeles</td>\n",
              "      <td>156350.7125</td>\n",
              "      <td>21.605180</td>\n",
              "    </tr>\n",
              "    <tr>\n",
              "      <th>435</th>\n",
              "      <td>Seattle</td>\n",
              "      <td>146841.6950</td>\n",
              "      <td>28.239482</td>\n",
              "    </tr>\n",
              "    <tr>\n",
              "      <th>118</th>\n",
              "      <td>Detroit</td>\n",
              "      <td>100688.4130</td>\n",
              "      <td>32.788581</td>\n",
              "    </tr>\n",
              "    <tr>\n",
              "      <th>422</th>\n",
              "      <td>San Francisco</td>\n",
              "      <td>90887.6415</td>\n",
              "      <td>36.894881</td>\n",
              "    </tr>\n",
              "    <tr>\n",
              "      <th>...</th>\n",
              "      <td>...</td>\n",
              "      <td>...</td>\n",
              "      <td>...</td>\n",
              "    </tr>\n",
              "    <tr>\n",
              "      <th>36</th>\n",
              "      <td>Bellingham</td>\n",
              "      <td>5826.7522</td>\n",
              "      <td>79.128400</td>\n",
              "    </tr>\n",
              "    <tr>\n",
              "      <th>335</th>\n",
              "      <td>Oklahoma City</td>\n",
              "      <td>5613.5835</td>\n",
              "      <td>79.382022</td>\n",
              "    </tr>\n",
              "    <tr>\n",
              "      <th>153</th>\n",
              "      <td>Fresno</td>\n",
              "      <td>5581.2115</td>\n",
              "      <td>79.634181</td>\n",
              "    </tr>\n",
              "    <tr>\n",
              "      <th>148</th>\n",
              "      <td>Fort Worth</td>\n",
              "      <td>5569.0989</td>\n",
              "      <td>79.885792</td>\n",
              "    </tr>\n",
              "    <tr>\n",
              "      <th>454</th>\n",
              "      <td>Tallahassee</td>\n",
              "      <td>5502.7437</td>\n",
              "      <td>80.134406</td>\n",
              "    </tr>\n",
              "  </tbody>\n",
              "</table>\n",
              "<p>66 rows × 3 columns</p>\n",
              "</div>\n",
              "      <button class=\"colab-df-convert\" onclick=\"convertToInteractive('df-0e5afc80-6750-49d2-98ae-67d71f13cb6b')\"\n",
              "              title=\"Convert this dataframe to an interactive table.\"\n",
              "              style=\"display:none;\">\n",
              "        \n",
              "  <svg xmlns=\"http://www.w3.org/2000/svg\" height=\"24px\"viewBox=\"0 0 24 24\"\n",
              "       width=\"24px\">\n",
              "    <path d=\"M0 0h24v24H0V0z\" fill=\"none\"/>\n",
              "    <path d=\"M18.56 5.44l.94 2.06.94-2.06 2.06-.94-2.06-.94-.94-2.06-.94 2.06-2.06.94zm-11 1L8.5 8.5l.94-2.06 2.06-.94-2.06-.94L8.5 2.5l-.94 2.06-2.06.94zm10 10l.94 2.06.94-2.06 2.06-.94-2.06-.94-.94-2.06-.94 2.06-2.06.94z\"/><path d=\"M17.41 7.96l-1.37-1.37c-.4-.4-.92-.59-1.43-.59-.52 0-1.04.2-1.43.59L10.3 9.45l-7.72 7.72c-.78.78-.78 2.05 0 2.83L4 21.41c.39.39.9.59 1.41.59.51 0 1.02-.2 1.41-.59l7.78-7.78 2.81-2.81c.8-.78.8-2.07 0-2.86zM5.41 20L4 18.59l7.72-7.72 1.47 1.35L5.41 20z\"/>\n",
              "  </svg>\n",
              "      </button>\n",
              "      \n",
              "  <style>\n",
              "    .colab-df-container {\n",
              "      display:flex;\n",
              "      flex-wrap:wrap;\n",
              "      gap: 12px;\n",
              "    }\n",
              "\n",
              "    .colab-df-convert {\n",
              "      background-color: #E8F0FE;\n",
              "      border: none;\n",
              "      border-radius: 50%;\n",
              "      cursor: pointer;\n",
              "      display: none;\n",
              "      fill: #1967D2;\n",
              "      height: 32px;\n",
              "      padding: 0 0 0 0;\n",
              "      width: 32px;\n",
              "    }\n",
              "\n",
              "    .colab-df-convert:hover {\n",
              "      background-color: #E2EBFA;\n",
              "      box-shadow: 0px 1px 2px rgba(60, 64, 67, 0.3), 0px 1px 3px 1px rgba(60, 64, 67, 0.15);\n",
              "      fill: #174EA6;\n",
              "    }\n",
              "\n",
              "    [theme=dark] .colab-df-convert {\n",
              "      background-color: #3B4455;\n",
              "      fill: #D2E3FC;\n",
              "    }\n",
              "\n",
              "    [theme=dark] .colab-df-convert:hover {\n",
              "      background-color: #434B5C;\n",
              "      box-shadow: 0px 1px 3px 1px rgba(0, 0, 0, 0.15);\n",
              "      filter: drop-shadow(0px 1px 2px rgba(0, 0, 0, 0.3));\n",
              "      fill: #FFFFFF;\n",
              "    }\n",
              "  </style>\n",
              "\n",
              "      <script>\n",
              "        const buttonEl =\n",
              "          document.querySelector('#df-0e5afc80-6750-49d2-98ae-67d71f13cb6b button.colab-df-convert');\n",
              "        buttonEl.style.display =\n",
              "          google.colab.kernel.accessAllowed ? 'block' : 'none';\n",
              "\n",
              "        async function convertToInteractive(key) {\n",
              "          const element = document.querySelector('#df-0e5afc80-6750-49d2-98ae-67d71f13cb6b');\n",
              "          const dataTable =\n",
              "            await google.colab.kernel.invokeFunction('convertToInteractive',\n",
              "                                                     [key], {});\n",
              "          if (!dataTable) return;\n",
              "\n",
              "          const docLinkHtml = 'Like what you see? Visit the ' +\n",
              "            '<a target=\"_blank\" href=https://colab.research.google.com/notebooks/data_table.ipynb>data table notebook</a>'\n",
              "            + ' to learn more about interactive tables.';\n",
              "          element.innerHTML = '';\n",
              "          dataTable['output_type'] = 'display_data';\n",
              "          await google.colab.output.renderOutput(dataTable, element);\n",
              "          const docLink = document.createElement('div');\n",
              "          docLink.innerHTML = docLinkHtml;\n",
              "          element.appendChild(docLink);\n",
              "        }\n",
              "      </script>\n",
              "    </div>\n",
              "  </div>\n",
              "  "
            ]
          },
          "metadata": {},
          "execution_count": 17
        }
      ]
    },
    {
      "cell_type": "markdown",
      "source": [
        "Berdasarkan perhitungan Pareto, 80% profit berasal dari kota diatas. Sehingga fokus pemasarannya hanya pada kota diatas saja karena kota diatas merupakan penyumbang 80% dari total profit yang didapatkan."
      ],
      "metadata": {
        "id": "9WIa3uC6X-kX"
      }
    },
    {
      "cell_type": "markdown",
      "source": [
        "## E\n",
        "**Kategori dan subkategori apa saja yang paling sering dibeli karena diskon? Ambil top 80% berdasarkan perhitungan Pareto**"
      ],
      "metadata": {
        "id": "lq7AJGs6mVmp"
      }
    },
    {
      "cell_type": "code",
      "source": [
        "# create Total Discount\n",
        "gs[\"TotalDiscount\"] = (gs[\"discount\"]) * (gs[\"sales\"]) * (gs[\"quantity\"])\n",
        "\n",
        "# Sum Total Discount for each category\n",
        "gs_CategoryDiscount = gs.groupby('category', as_index=False).TotalDiscount.sum().sort_values(by='TotalDiscount', ascending = False)\n",
        "\n",
        "gs_CategoryDiscount[\"cumpercentage\"] = gs_CategoryDiscount[\"TotalDiscount\"].cumsum()/gs_CategoryDiscount[\"TotalDiscount\"].sum()*100\n",
        "\n",
        "gs_CategoryDiscount.head()"
      ],
      "metadata": {
        "colab": {
          "base_uri": "https://localhost:8080/",
          "height": 143
        },
        "outputId": "e9284ef4-84f5-40d1-ea2a-47ae2bc38822",
        "id": "VSCewkacmVmq"
      },
      "execution_count": 18,
      "outputs": [
        {
          "output_type": "execute_result",
          "data": {
            "text/plain": [
              "          category  TotalDiscount  cumpercentage\n",
              "2       Technology  329630.409800      47.762866\n",
              "0        Furniture  187317.503575      74.904842\n",
              "1  Office Supplies  173191.601100     100.000000"
            ],
            "text/html": [
              "\n",
              "  <div id=\"df-236065a2-fbf3-4990-8f12-0fcb39f3485e\">\n",
              "    <div class=\"colab-df-container\">\n",
              "      <div>\n",
              "<style scoped>\n",
              "    .dataframe tbody tr th:only-of-type {\n",
              "        vertical-align: middle;\n",
              "    }\n",
              "\n",
              "    .dataframe tbody tr th {\n",
              "        vertical-align: top;\n",
              "    }\n",
              "\n",
              "    .dataframe thead th {\n",
              "        text-align: right;\n",
              "    }\n",
              "</style>\n",
              "<table border=\"1\" class=\"dataframe\">\n",
              "  <thead>\n",
              "    <tr style=\"text-align: right;\">\n",
              "      <th></th>\n",
              "      <th>category</th>\n",
              "      <th>TotalDiscount</th>\n",
              "      <th>cumpercentage</th>\n",
              "    </tr>\n",
              "  </thead>\n",
              "  <tbody>\n",
              "    <tr>\n",
              "      <th>2</th>\n",
              "      <td>Technology</td>\n",
              "      <td>329630.409800</td>\n",
              "      <td>47.762866</td>\n",
              "    </tr>\n",
              "    <tr>\n",
              "      <th>0</th>\n",
              "      <td>Furniture</td>\n",
              "      <td>187317.503575</td>\n",
              "      <td>74.904842</td>\n",
              "    </tr>\n",
              "    <tr>\n",
              "      <th>1</th>\n",
              "      <td>Office Supplies</td>\n",
              "      <td>173191.601100</td>\n",
              "      <td>100.000000</td>\n",
              "    </tr>\n",
              "  </tbody>\n",
              "</table>\n",
              "</div>\n",
              "      <button class=\"colab-df-convert\" onclick=\"convertToInteractive('df-236065a2-fbf3-4990-8f12-0fcb39f3485e')\"\n",
              "              title=\"Convert this dataframe to an interactive table.\"\n",
              "              style=\"display:none;\">\n",
              "        \n",
              "  <svg xmlns=\"http://www.w3.org/2000/svg\" height=\"24px\"viewBox=\"0 0 24 24\"\n",
              "       width=\"24px\">\n",
              "    <path d=\"M0 0h24v24H0V0z\" fill=\"none\"/>\n",
              "    <path d=\"M18.56 5.44l.94 2.06.94-2.06 2.06-.94-2.06-.94-.94-2.06-.94 2.06-2.06.94zm-11 1L8.5 8.5l.94-2.06 2.06-.94-2.06-.94L8.5 2.5l-.94 2.06-2.06.94zm10 10l.94 2.06.94-2.06 2.06-.94-2.06-.94-.94-2.06-.94 2.06-2.06.94z\"/><path d=\"M17.41 7.96l-1.37-1.37c-.4-.4-.92-.59-1.43-.59-.52 0-1.04.2-1.43.59L10.3 9.45l-7.72 7.72c-.78.78-.78 2.05 0 2.83L4 21.41c.39.39.9.59 1.41.59.51 0 1.02-.2 1.41-.59l7.78-7.78 2.81-2.81c.8-.78.8-2.07 0-2.86zM5.41 20L4 18.59l7.72-7.72 1.47 1.35L5.41 20z\"/>\n",
              "  </svg>\n",
              "      </button>\n",
              "      \n",
              "  <style>\n",
              "    .colab-df-container {\n",
              "      display:flex;\n",
              "      flex-wrap:wrap;\n",
              "      gap: 12px;\n",
              "    }\n",
              "\n",
              "    .colab-df-convert {\n",
              "      background-color: #E8F0FE;\n",
              "      border: none;\n",
              "      border-radius: 50%;\n",
              "      cursor: pointer;\n",
              "      display: none;\n",
              "      fill: #1967D2;\n",
              "      height: 32px;\n",
              "      padding: 0 0 0 0;\n",
              "      width: 32px;\n",
              "    }\n",
              "\n",
              "    .colab-df-convert:hover {\n",
              "      background-color: #E2EBFA;\n",
              "      box-shadow: 0px 1px 2px rgba(60, 64, 67, 0.3), 0px 1px 3px 1px rgba(60, 64, 67, 0.15);\n",
              "      fill: #174EA6;\n",
              "    }\n",
              "\n",
              "    [theme=dark] .colab-df-convert {\n",
              "      background-color: #3B4455;\n",
              "      fill: #D2E3FC;\n",
              "    }\n",
              "\n",
              "    [theme=dark] .colab-df-convert:hover {\n",
              "      background-color: #434B5C;\n",
              "      box-shadow: 0px 1px 3px 1px rgba(0, 0, 0, 0.15);\n",
              "      filter: drop-shadow(0px 1px 2px rgba(0, 0, 0, 0.3));\n",
              "      fill: #FFFFFF;\n",
              "    }\n",
              "  </style>\n",
              "\n",
              "      <script>\n",
              "        const buttonEl =\n",
              "          document.querySelector('#df-236065a2-fbf3-4990-8f12-0fcb39f3485e button.colab-df-convert');\n",
              "        buttonEl.style.display =\n",
              "          google.colab.kernel.accessAllowed ? 'block' : 'none';\n",
              "\n",
              "        async function convertToInteractive(key) {\n",
              "          const element = document.querySelector('#df-236065a2-fbf3-4990-8f12-0fcb39f3485e');\n",
              "          const dataTable =\n",
              "            await google.colab.kernel.invokeFunction('convertToInteractive',\n",
              "                                                     [key], {});\n",
              "          if (!dataTable) return;\n",
              "\n",
              "          const docLinkHtml = 'Like what you see? Visit the ' +\n",
              "            '<a target=\"_blank\" href=https://colab.research.google.com/notebooks/data_table.ipynb>data table notebook</a>'\n",
              "            + ' to learn more about interactive tables.';\n",
              "          element.innerHTML = '';\n",
              "          dataTable['output_type'] = 'display_data';\n",
              "          await google.colab.output.renderOutput(dataTable, element);\n",
              "          const docLink = document.createElement('div');\n",
              "          docLink.innerHTML = docLinkHtml;\n",
              "          element.appendChild(docLink);\n",
              "        }\n",
              "      </script>\n",
              "    </div>\n",
              "  </div>\n",
              "  "
            ]
          },
          "metadata": {},
          "execution_count": 18
        }
      ]
    },
    {
      "cell_type": "markdown",
      "source": [
        "Berdasarkan perhitungan Pareto, 80% kategori yang sering dibeli karena diskon berasal dari semua kategori"
      ],
      "metadata": {
        "id": "3Dmq7fL6YKqb"
      }
    },
    {
      "cell_type": "code",
      "source": [
        "# Sum Total Discount for each sub_category\n",
        "gs_SubcategoryDiscount = gs.groupby('sub_category', as_index=False).TotalDiscount.sum().sort_values(by='TotalDiscount', ascending = False)\n",
        "\n",
        "gs_SubcategoryDiscount[\"cumpercentage\"] = gs_SubcategoryDiscount[\"TotalDiscount\"].cumsum()/gs_SubcategoryDiscount[\"TotalDiscount\"].sum()*100\n",
        "\n",
        "gs_SubcategoryDiscount.head(8)"
      ],
      "metadata": {
        "colab": {
          "base_uri": "https://localhost:8080/",
          "height": 300
        },
        "outputId": "e5d84c4a-e494-4e80-884e-6f8832af0d55",
        "id": "iTkKNDIAmVmq"
      },
      "execution_count": 19,
      "outputs": [
        {
          "output_type": "execute_result",
          "data": {
            "text/plain": [
              "   sub_category  TotalDiscount  cumpercentage\n",
              "13       Phones  179567.883200      26.019070\n",
              "5        Chairs  102526.030300      40.874911\n",
              "3       Binders   79701.350400      52.423496\n",
              "6       Copiers   73030.928800      63.005549\n",
              "0   Accessories   40510.638400      68.875470\n",
              "16       Tables   37762.303300      74.347161\n",
              "11     Machines   36520.959400      79.638983\n",
              "4     Bookcases   31923.734775      84.264676"
            ],
            "text/html": [
              "\n",
              "  <div id=\"df-abba5d0f-4c62-4ab7-9fdc-2f1bc0730bcc\">\n",
              "    <div class=\"colab-df-container\">\n",
              "      <div>\n",
              "<style scoped>\n",
              "    .dataframe tbody tr th:only-of-type {\n",
              "        vertical-align: middle;\n",
              "    }\n",
              "\n",
              "    .dataframe tbody tr th {\n",
              "        vertical-align: top;\n",
              "    }\n",
              "\n",
              "    .dataframe thead th {\n",
              "        text-align: right;\n",
              "    }\n",
              "</style>\n",
              "<table border=\"1\" class=\"dataframe\">\n",
              "  <thead>\n",
              "    <tr style=\"text-align: right;\">\n",
              "      <th></th>\n",
              "      <th>sub_category</th>\n",
              "      <th>TotalDiscount</th>\n",
              "      <th>cumpercentage</th>\n",
              "    </tr>\n",
              "  </thead>\n",
              "  <tbody>\n",
              "    <tr>\n",
              "      <th>13</th>\n",
              "      <td>Phones</td>\n",
              "      <td>179567.883200</td>\n",
              "      <td>26.019070</td>\n",
              "    </tr>\n",
              "    <tr>\n",
              "      <th>5</th>\n",
              "      <td>Chairs</td>\n",
              "      <td>102526.030300</td>\n",
              "      <td>40.874911</td>\n",
              "    </tr>\n",
              "    <tr>\n",
              "      <th>3</th>\n",
              "      <td>Binders</td>\n",
              "      <td>79701.350400</td>\n",
              "      <td>52.423496</td>\n",
              "    </tr>\n",
              "    <tr>\n",
              "      <th>6</th>\n",
              "      <td>Copiers</td>\n",
              "      <td>73030.928800</td>\n",
              "      <td>63.005549</td>\n",
              "    </tr>\n",
              "    <tr>\n",
              "      <th>0</th>\n",
              "      <td>Accessories</td>\n",
              "      <td>40510.638400</td>\n",
              "      <td>68.875470</td>\n",
              "    </tr>\n",
              "    <tr>\n",
              "      <th>16</th>\n",
              "      <td>Tables</td>\n",
              "      <td>37762.303300</td>\n",
              "      <td>74.347161</td>\n",
              "    </tr>\n",
              "    <tr>\n",
              "      <th>11</th>\n",
              "      <td>Machines</td>\n",
              "      <td>36520.959400</td>\n",
              "      <td>79.638983</td>\n",
              "    </tr>\n",
              "    <tr>\n",
              "      <th>4</th>\n",
              "      <td>Bookcases</td>\n",
              "      <td>31923.734775</td>\n",
              "      <td>84.264676</td>\n",
              "    </tr>\n",
              "  </tbody>\n",
              "</table>\n",
              "</div>\n",
              "      <button class=\"colab-df-convert\" onclick=\"convertToInteractive('df-abba5d0f-4c62-4ab7-9fdc-2f1bc0730bcc')\"\n",
              "              title=\"Convert this dataframe to an interactive table.\"\n",
              "              style=\"display:none;\">\n",
              "        \n",
              "  <svg xmlns=\"http://www.w3.org/2000/svg\" height=\"24px\"viewBox=\"0 0 24 24\"\n",
              "       width=\"24px\">\n",
              "    <path d=\"M0 0h24v24H0V0z\" fill=\"none\"/>\n",
              "    <path d=\"M18.56 5.44l.94 2.06.94-2.06 2.06-.94-2.06-.94-.94-2.06-.94 2.06-2.06.94zm-11 1L8.5 8.5l.94-2.06 2.06-.94-2.06-.94L8.5 2.5l-.94 2.06-2.06.94zm10 10l.94 2.06.94-2.06 2.06-.94-2.06-.94-.94-2.06-.94 2.06-2.06.94z\"/><path d=\"M17.41 7.96l-1.37-1.37c-.4-.4-.92-.59-1.43-.59-.52 0-1.04.2-1.43.59L10.3 9.45l-7.72 7.72c-.78.78-.78 2.05 0 2.83L4 21.41c.39.39.9.59 1.41.59.51 0 1.02-.2 1.41-.59l7.78-7.78 2.81-2.81c.8-.78.8-2.07 0-2.86zM5.41 20L4 18.59l7.72-7.72 1.47 1.35L5.41 20z\"/>\n",
              "  </svg>\n",
              "      </button>\n",
              "      \n",
              "  <style>\n",
              "    .colab-df-container {\n",
              "      display:flex;\n",
              "      flex-wrap:wrap;\n",
              "      gap: 12px;\n",
              "    }\n",
              "\n",
              "    .colab-df-convert {\n",
              "      background-color: #E8F0FE;\n",
              "      border: none;\n",
              "      border-radius: 50%;\n",
              "      cursor: pointer;\n",
              "      display: none;\n",
              "      fill: #1967D2;\n",
              "      height: 32px;\n",
              "      padding: 0 0 0 0;\n",
              "      width: 32px;\n",
              "    }\n",
              "\n",
              "    .colab-df-convert:hover {\n",
              "      background-color: #E2EBFA;\n",
              "      box-shadow: 0px 1px 2px rgba(60, 64, 67, 0.3), 0px 1px 3px 1px rgba(60, 64, 67, 0.15);\n",
              "      fill: #174EA6;\n",
              "    }\n",
              "\n",
              "    [theme=dark] .colab-df-convert {\n",
              "      background-color: #3B4455;\n",
              "      fill: #D2E3FC;\n",
              "    }\n",
              "\n",
              "    [theme=dark] .colab-df-convert:hover {\n",
              "      background-color: #434B5C;\n",
              "      box-shadow: 0px 1px 3px 1px rgba(0, 0, 0, 0.15);\n",
              "      filter: drop-shadow(0px 1px 2px rgba(0, 0, 0, 0.3));\n",
              "      fill: #FFFFFF;\n",
              "    }\n",
              "  </style>\n",
              "\n",
              "      <script>\n",
              "        const buttonEl =\n",
              "          document.querySelector('#df-abba5d0f-4c62-4ab7-9fdc-2f1bc0730bcc button.colab-df-convert');\n",
              "        buttonEl.style.display =\n",
              "          google.colab.kernel.accessAllowed ? 'block' : 'none';\n",
              "\n",
              "        async function convertToInteractive(key) {\n",
              "          const element = document.querySelector('#df-abba5d0f-4c62-4ab7-9fdc-2f1bc0730bcc');\n",
              "          const dataTable =\n",
              "            await google.colab.kernel.invokeFunction('convertToInteractive',\n",
              "                                                     [key], {});\n",
              "          if (!dataTable) return;\n",
              "\n",
              "          const docLinkHtml = 'Like what you see? Visit the ' +\n",
              "            '<a target=\"_blank\" href=https://colab.research.google.com/notebooks/data_table.ipynb>data table notebook</a>'\n",
              "            + ' to learn more about interactive tables.';\n",
              "          element.innerHTML = '';\n",
              "          dataTable['output_type'] = 'display_data';\n",
              "          await google.colab.output.renderOutput(dataTable, element);\n",
              "          const docLink = document.createElement('div');\n",
              "          docLink.innerHTML = docLinkHtml;\n",
              "          element.appendChild(docLink);\n",
              "        }\n",
              "      </script>\n",
              "    </div>\n",
              "  </div>\n",
              "  "
            ]
          },
          "metadata": {},
          "execution_count": 19
        }
      ]
    },
    {
      "cell_type": "markdown",
      "source": [
        "Berdasarkan perhitungan Pareto, 80% sub kategori yang sering dibeli karena diskon berasal dari sub kategori diatas. Selain sub category diatas, pemberian diskon tidak terlalu berpengaruh pada penjualan"
      ],
      "metadata": {
        "id": "8JP7nki4ZuZi"
      }
    },
    {
      "cell_type": "markdown",
      "source": [
        "# NOMOR 2"
      ],
      "metadata": {
        "id": "6lqIWxycmVms"
      }
    },
    {
      "cell_type": "markdown",
      "source": [
        "**Anda berpikir bahwa RFM mungkin metode segmentasi yang tepat karena selain cepat untuk dilakukan juga lebih targeted. Buatlah segmentasi RFM dan analisis segmentasi yang terbentuk. Buatlah segmentasi berdasarkan RFM score yang\n",
        "dibentuk dan berikan alasan anda terkait pembuatan cluster assignment tersebut**"
      ],
      "metadata": {
        "id": "nXpJ-bcimVms"
      }
    },
    {
      "cell_type": "markdown",
      "source": [
        "**Turn \"order_date\" into date type and create Monetary**"
      ],
      "metadata": {
        "id": "wsvNrCeZmVmt"
      }
    },
    {
      "cell_type": "code",
      "source": [
        "gs[\"order_date\"] = pd.to_datetime(gs['order_date'])"
      ],
      "metadata": {
        "id": "S0EkgTdamVmt"
      },
      "execution_count": 20,
      "outputs": []
    },
    {
      "cell_type": "code",
      "source": [
        "gs['Monetary'] = (1 - gs[\"discount\"]) * (gs[\"sales\"]) * (gs[\"quantity\"])"
      ],
      "metadata": {
        "id": "sZJWLa9mmVmu"
      },
      "execution_count": 21,
      "outputs": []
    },
    {
      "cell_type": "markdown",
      "source": [
        "**Put maximum date as time for analysis**"
      ],
      "metadata": {
        "id": "uiTfiJz9mVmu"
      }
    },
    {
      "cell_type": "code",
      "source": [
        "analysis_date = gs['order_date'].max()"
      ],
      "metadata": {
        "id": "Bzbrj5_1mVmx"
      },
      "execution_count": 22,
      "outputs": []
    },
    {
      "cell_type": "markdown",
      "source": [
        "**Create data object for rfm modeling**"
      ],
      "metadata": {
        "id": "FNQr-uZmmVmy"
      }
    },
    {
      "cell_type": "code",
      "source": [
        "data_rfm = gs.groupby(['customer_id'], as_index=False).agg({\n",
        "        'order_date': lambda x: (analysis_date - x.max()).days,\n",
        "        'order_id': 'count',\n",
        "        'Monetary': 'sum'}).query(\"Monetary > 0\")\n",
        "\n",
        "data_rfm.rename(columns={'order_date': 'Recency',\n",
        "                         'order_id': 'Frequency'}, inplace=True)\n",
        "\n",
        "data_rfm"
      ],
      "metadata": {
        "colab": {
          "base_uri": "https://localhost:8080/",
          "height": 423
        },
        "outputId": "32a4a82a-d32a-4197-9c31-d8e36b950aca",
        "id": "b_6DK6i9mVmy"
      },
      "execution_count": 23,
      "outputs": [
        {
          "output_type": "execute_result",
          "data": {
            "text/plain": [
              "    customer_id  Recency  Frequency     Monetary\n",
              "0      AA-10315      184         10   3695.64640\n",
              "1      AA-10375       19         15   2583.99800\n",
              "2      AA-10480      259         12   5484.60480\n",
              "3      AA-10645       55         15  16940.31125\n",
              "4      AB-10015      415          5   1949.48960\n",
              "..          ...      ...        ...          ...\n",
              "787    XP-21865       43         27   7132.54200\n",
              "788    YC-21895        4          8  26323.57080\n",
              "789    YS-21880        9         11  38824.68640\n",
              "790    ZC-21910       54         18  29446.60960\n",
              "791    ZD-21925      202          9   5499.11040\n",
              "\n",
              "[792 rows x 4 columns]"
            ],
            "text/html": [
              "\n",
              "  <div id=\"df-db224ee7-7ad5-4e45-987a-77c1b4d0f8a1\">\n",
              "    <div class=\"colab-df-container\">\n",
              "      <div>\n",
              "<style scoped>\n",
              "    .dataframe tbody tr th:only-of-type {\n",
              "        vertical-align: middle;\n",
              "    }\n",
              "\n",
              "    .dataframe tbody tr th {\n",
              "        vertical-align: top;\n",
              "    }\n",
              "\n",
              "    .dataframe thead th {\n",
              "        text-align: right;\n",
              "    }\n",
              "</style>\n",
              "<table border=\"1\" class=\"dataframe\">\n",
              "  <thead>\n",
              "    <tr style=\"text-align: right;\">\n",
              "      <th></th>\n",
              "      <th>customer_id</th>\n",
              "      <th>Recency</th>\n",
              "      <th>Frequency</th>\n",
              "      <th>Monetary</th>\n",
              "    </tr>\n",
              "  </thead>\n",
              "  <tbody>\n",
              "    <tr>\n",
              "      <th>0</th>\n",
              "      <td>AA-10315</td>\n",
              "      <td>184</td>\n",
              "      <td>10</td>\n",
              "      <td>3695.64640</td>\n",
              "    </tr>\n",
              "    <tr>\n",
              "      <th>1</th>\n",
              "      <td>AA-10375</td>\n",
              "      <td>19</td>\n",
              "      <td>15</td>\n",
              "      <td>2583.99800</td>\n",
              "    </tr>\n",
              "    <tr>\n",
              "      <th>2</th>\n",
              "      <td>AA-10480</td>\n",
              "      <td>259</td>\n",
              "      <td>12</td>\n",
              "      <td>5484.60480</td>\n",
              "    </tr>\n",
              "    <tr>\n",
              "      <th>3</th>\n",
              "      <td>AA-10645</td>\n",
              "      <td>55</td>\n",
              "      <td>15</td>\n",
              "      <td>16940.31125</td>\n",
              "    </tr>\n",
              "    <tr>\n",
              "      <th>4</th>\n",
              "      <td>AB-10015</td>\n",
              "      <td>415</td>\n",
              "      <td>5</td>\n",
              "      <td>1949.48960</td>\n",
              "    </tr>\n",
              "    <tr>\n",
              "      <th>...</th>\n",
              "      <td>...</td>\n",
              "      <td>...</td>\n",
              "      <td>...</td>\n",
              "      <td>...</td>\n",
              "    </tr>\n",
              "    <tr>\n",
              "      <th>787</th>\n",
              "      <td>XP-21865</td>\n",
              "      <td>43</td>\n",
              "      <td>27</td>\n",
              "      <td>7132.54200</td>\n",
              "    </tr>\n",
              "    <tr>\n",
              "      <th>788</th>\n",
              "      <td>YC-21895</td>\n",
              "      <td>4</td>\n",
              "      <td>8</td>\n",
              "      <td>26323.57080</td>\n",
              "    </tr>\n",
              "    <tr>\n",
              "      <th>789</th>\n",
              "      <td>YS-21880</td>\n",
              "      <td>9</td>\n",
              "      <td>11</td>\n",
              "      <td>38824.68640</td>\n",
              "    </tr>\n",
              "    <tr>\n",
              "      <th>790</th>\n",
              "      <td>ZC-21910</td>\n",
              "      <td>54</td>\n",
              "      <td>18</td>\n",
              "      <td>29446.60960</td>\n",
              "    </tr>\n",
              "    <tr>\n",
              "      <th>791</th>\n",
              "      <td>ZD-21925</td>\n",
              "      <td>202</td>\n",
              "      <td>9</td>\n",
              "      <td>5499.11040</td>\n",
              "    </tr>\n",
              "  </tbody>\n",
              "</table>\n",
              "<p>792 rows × 4 columns</p>\n",
              "</div>\n",
              "      <button class=\"colab-df-convert\" onclick=\"convertToInteractive('df-db224ee7-7ad5-4e45-987a-77c1b4d0f8a1')\"\n",
              "              title=\"Convert this dataframe to an interactive table.\"\n",
              "              style=\"display:none;\">\n",
              "        \n",
              "  <svg xmlns=\"http://www.w3.org/2000/svg\" height=\"24px\"viewBox=\"0 0 24 24\"\n",
              "       width=\"24px\">\n",
              "    <path d=\"M0 0h24v24H0V0z\" fill=\"none\"/>\n",
              "    <path d=\"M18.56 5.44l.94 2.06.94-2.06 2.06-.94-2.06-.94-.94-2.06-.94 2.06-2.06.94zm-11 1L8.5 8.5l.94-2.06 2.06-.94-2.06-.94L8.5 2.5l-.94 2.06-2.06.94zm10 10l.94 2.06.94-2.06 2.06-.94-2.06-.94-.94-2.06-.94 2.06-2.06.94z\"/><path d=\"M17.41 7.96l-1.37-1.37c-.4-.4-.92-.59-1.43-.59-.52 0-1.04.2-1.43.59L10.3 9.45l-7.72 7.72c-.78.78-.78 2.05 0 2.83L4 21.41c.39.39.9.59 1.41.59.51 0 1.02-.2 1.41-.59l7.78-7.78 2.81-2.81c.8-.78.8-2.07 0-2.86zM5.41 20L4 18.59l7.72-7.72 1.47 1.35L5.41 20z\"/>\n",
              "  </svg>\n",
              "      </button>\n",
              "      \n",
              "  <style>\n",
              "    .colab-df-container {\n",
              "      display:flex;\n",
              "      flex-wrap:wrap;\n",
              "      gap: 12px;\n",
              "    }\n",
              "\n",
              "    .colab-df-convert {\n",
              "      background-color: #E8F0FE;\n",
              "      border: none;\n",
              "      border-radius: 50%;\n",
              "      cursor: pointer;\n",
              "      display: none;\n",
              "      fill: #1967D2;\n",
              "      height: 32px;\n",
              "      padding: 0 0 0 0;\n",
              "      width: 32px;\n",
              "    }\n",
              "\n",
              "    .colab-df-convert:hover {\n",
              "      background-color: #E2EBFA;\n",
              "      box-shadow: 0px 1px 2px rgba(60, 64, 67, 0.3), 0px 1px 3px 1px rgba(60, 64, 67, 0.15);\n",
              "      fill: #174EA6;\n",
              "    }\n",
              "\n",
              "    [theme=dark] .colab-df-convert {\n",
              "      background-color: #3B4455;\n",
              "      fill: #D2E3FC;\n",
              "    }\n",
              "\n",
              "    [theme=dark] .colab-df-convert:hover {\n",
              "      background-color: #434B5C;\n",
              "      box-shadow: 0px 1px 3px 1px rgba(0, 0, 0, 0.15);\n",
              "      filter: drop-shadow(0px 1px 2px rgba(0, 0, 0, 0.3));\n",
              "      fill: #FFFFFF;\n",
              "    }\n",
              "  </style>\n",
              "\n",
              "      <script>\n",
              "        const buttonEl =\n",
              "          document.querySelector('#df-db224ee7-7ad5-4e45-987a-77c1b4d0f8a1 button.colab-df-convert');\n",
              "        buttonEl.style.display =\n",
              "          google.colab.kernel.accessAllowed ? 'block' : 'none';\n",
              "\n",
              "        async function convertToInteractive(key) {\n",
              "          const element = document.querySelector('#df-db224ee7-7ad5-4e45-987a-77c1b4d0f8a1');\n",
              "          const dataTable =\n",
              "            await google.colab.kernel.invokeFunction('convertToInteractive',\n",
              "                                                     [key], {});\n",
              "          if (!dataTable) return;\n",
              "\n",
              "          const docLinkHtml = 'Like what you see? Visit the ' +\n",
              "            '<a target=\"_blank\" href=https://colab.research.google.com/notebooks/data_table.ipynb>data table notebook</a>'\n",
              "            + ' to learn more about interactive tables.';\n",
              "          element.innerHTML = '';\n",
              "          dataTable['output_type'] = 'display_data';\n",
              "          await google.colab.output.renderOutput(dataTable, element);\n",
              "          const docLink = document.createElement('div');\n",
              "          docLink.innerHTML = docLinkHtml;\n",
              "          element.appendChild(docLink);\n",
              "        }\n",
              "      </script>\n",
              "    </div>\n",
              "  </div>\n",
              "  "
            ]
          },
          "metadata": {},
          "execution_count": 23
        }
      ]
    },
    {
      "cell_type": "markdown",
      "source": [
        "**Create RFM segmentation by using `rfm_table_order` function**"
      ],
      "metadata": {
        "id": "vDW5QqRXmVmz"
      }
    },
    {
      "cell_type": "code",
      "source": [
        "r_labels = range(4, 0, -1)\n",
        "f_labels = range(1, 5)\n",
        "m_labels = range(1, 5)\n",
        "\n",
        "r_groups = pd.qcut(data_rfm['Recency'], q=4, labels = r_labels)\n",
        "f_groups = pd.qcut(data_rfm['Frequency'], q=4, labels = f_labels)\n",
        "m_groups = pd.qcut(data_rfm['Monetary'], q=4, labels = m_labels)"
      ],
      "metadata": {
        "id": "zXjyOgh4mVmz"
      },
      "execution_count": 24,
      "outputs": []
    },
    {
      "cell_type": "code",
      "source": [
        "data_rfm = data_rfm.assign(R = r_groups.values, F = f_groups.values, M = m_groups.values)"
      ],
      "metadata": {
        "id": "NAJxqOG3mVmz"
      },
      "execution_count": 25,
      "outputs": []
    },
    {
      "cell_type": "code",
      "source": [
        "data_rfm['rfm_score'] = data_rfm[['R','F','M']].apply(\n",
        "    lambda x: ''.join(x.astype(str)),\n",
        "    axis=1\n",
        ")"
      ],
      "metadata": {
        "id": "peHRftuCmVm0"
      },
      "execution_count": 26,
      "outputs": []
    },
    {
      "cell_type": "code",
      "source": [
        "data_rfm['rfm_score'] = data_rfm['rfm_score'].astype('int')"
      ],
      "metadata": {
        "id": "JTKhJX3FmVm0"
      },
      "execution_count": 27,
      "outputs": []
    },
    {
      "cell_type": "markdown",
      "source": [
        "**Check final result**"
      ],
      "metadata": {
        "id": "vRP-ei1smVm0"
      }
    },
    {
      "cell_type": "code",
      "source": [
        "data_rfm.head()"
      ],
      "metadata": {
        "colab": {
          "base_uri": "https://localhost:8080/",
          "height": 206
        },
        "outputId": "dfcde6d1-213c-4ea5-d1f6-1e130d4d0b99",
        "id": "PBNWsrSqmVm1"
      },
      "execution_count": 28,
      "outputs": [
        {
          "output_type": "execute_result",
          "data": {
            "text/plain": [
              "  customer_id  Recency  Frequency     Monetary  R  F  M  rfm_score\n",
              "0    AA-10315      184         10   3695.64640  2  2  2        222\n",
              "1    AA-10375       19         15   2583.99800  4  4  1        441\n",
              "2    AA-10480      259         12   5484.60480  1  3  2        132\n",
              "3    AA-10645       55         15  16940.31125  3  4  4        344\n",
              "4    AB-10015      415          5   1949.48960  1  1  1        111"
            ],
            "text/html": [
              "\n",
              "  <div id=\"df-cb1d548e-4481-4299-b2c1-d6ad7ecebe03\">\n",
              "    <div class=\"colab-df-container\">\n",
              "      <div>\n",
              "<style scoped>\n",
              "    .dataframe tbody tr th:only-of-type {\n",
              "        vertical-align: middle;\n",
              "    }\n",
              "\n",
              "    .dataframe tbody tr th {\n",
              "        vertical-align: top;\n",
              "    }\n",
              "\n",
              "    .dataframe thead th {\n",
              "        text-align: right;\n",
              "    }\n",
              "</style>\n",
              "<table border=\"1\" class=\"dataframe\">\n",
              "  <thead>\n",
              "    <tr style=\"text-align: right;\">\n",
              "      <th></th>\n",
              "      <th>customer_id</th>\n",
              "      <th>Recency</th>\n",
              "      <th>Frequency</th>\n",
              "      <th>Monetary</th>\n",
              "      <th>R</th>\n",
              "      <th>F</th>\n",
              "      <th>M</th>\n",
              "      <th>rfm_score</th>\n",
              "    </tr>\n",
              "  </thead>\n",
              "  <tbody>\n",
              "    <tr>\n",
              "      <th>0</th>\n",
              "      <td>AA-10315</td>\n",
              "      <td>184</td>\n",
              "      <td>10</td>\n",
              "      <td>3695.64640</td>\n",
              "      <td>2</td>\n",
              "      <td>2</td>\n",
              "      <td>2</td>\n",
              "      <td>222</td>\n",
              "    </tr>\n",
              "    <tr>\n",
              "      <th>1</th>\n",
              "      <td>AA-10375</td>\n",
              "      <td>19</td>\n",
              "      <td>15</td>\n",
              "      <td>2583.99800</td>\n",
              "      <td>4</td>\n",
              "      <td>4</td>\n",
              "      <td>1</td>\n",
              "      <td>441</td>\n",
              "    </tr>\n",
              "    <tr>\n",
              "      <th>2</th>\n",
              "      <td>AA-10480</td>\n",
              "      <td>259</td>\n",
              "      <td>12</td>\n",
              "      <td>5484.60480</td>\n",
              "      <td>1</td>\n",
              "      <td>3</td>\n",
              "      <td>2</td>\n",
              "      <td>132</td>\n",
              "    </tr>\n",
              "    <tr>\n",
              "      <th>3</th>\n",
              "      <td>AA-10645</td>\n",
              "      <td>55</td>\n",
              "      <td>15</td>\n",
              "      <td>16940.31125</td>\n",
              "      <td>3</td>\n",
              "      <td>4</td>\n",
              "      <td>4</td>\n",
              "      <td>344</td>\n",
              "    </tr>\n",
              "    <tr>\n",
              "      <th>4</th>\n",
              "      <td>AB-10015</td>\n",
              "      <td>415</td>\n",
              "      <td>5</td>\n",
              "      <td>1949.48960</td>\n",
              "      <td>1</td>\n",
              "      <td>1</td>\n",
              "      <td>1</td>\n",
              "      <td>111</td>\n",
              "    </tr>\n",
              "  </tbody>\n",
              "</table>\n",
              "</div>\n",
              "      <button class=\"colab-df-convert\" onclick=\"convertToInteractive('df-cb1d548e-4481-4299-b2c1-d6ad7ecebe03')\"\n",
              "              title=\"Convert this dataframe to an interactive table.\"\n",
              "              style=\"display:none;\">\n",
              "        \n",
              "  <svg xmlns=\"http://www.w3.org/2000/svg\" height=\"24px\"viewBox=\"0 0 24 24\"\n",
              "       width=\"24px\">\n",
              "    <path d=\"M0 0h24v24H0V0z\" fill=\"none\"/>\n",
              "    <path d=\"M18.56 5.44l.94 2.06.94-2.06 2.06-.94-2.06-.94-.94-2.06-.94 2.06-2.06.94zm-11 1L8.5 8.5l.94-2.06 2.06-.94-2.06-.94L8.5 2.5l-.94 2.06-2.06.94zm10 10l.94 2.06.94-2.06 2.06-.94-2.06-.94-.94-2.06-.94 2.06-2.06.94z\"/><path d=\"M17.41 7.96l-1.37-1.37c-.4-.4-.92-.59-1.43-.59-.52 0-1.04.2-1.43.59L10.3 9.45l-7.72 7.72c-.78.78-.78 2.05 0 2.83L4 21.41c.39.39.9.59 1.41.59.51 0 1.02-.2 1.41-.59l7.78-7.78 2.81-2.81c.8-.78.8-2.07 0-2.86zM5.41 20L4 18.59l7.72-7.72 1.47 1.35L5.41 20z\"/>\n",
              "  </svg>\n",
              "      </button>\n",
              "      \n",
              "  <style>\n",
              "    .colab-df-container {\n",
              "      display:flex;\n",
              "      flex-wrap:wrap;\n",
              "      gap: 12px;\n",
              "    }\n",
              "\n",
              "    .colab-df-convert {\n",
              "      background-color: #E8F0FE;\n",
              "      border: none;\n",
              "      border-radius: 50%;\n",
              "      cursor: pointer;\n",
              "      display: none;\n",
              "      fill: #1967D2;\n",
              "      height: 32px;\n",
              "      padding: 0 0 0 0;\n",
              "      width: 32px;\n",
              "    }\n",
              "\n",
              "    .colab-df-convert:hover {\n",
              "      background-color: #E2EBFA;\n",
              "      box-shadow: 0px 1px 2px rgba(60, 64, 67, 0.3), 0px 1px 3px 1px rgba(60, 64, 67, 0.15);\n",
              "      fill: #174EA6;\n",
              "    }\n",
              "\n",
              "    [theme=dark] .colab-df-convert {\n",
              "      background-color: #3B4455;\n",
              "      fill: #D2E3FC;\n",
              "    }\n",
              "\n",
              "    [theme=dark] .colab-df-convert:hover {\n",
              "      background-color: #434B5C;\n",
              "      box-shadow: 0px 1px 3px 1px rgba(0, 0, 0, 0.15);\n",
              "      filter: drop-shadow(0px 1px 2px rgba(0, 0, 0, 0.3));\n",
              "      fill: #FFFFFF;\n",
              "    }\n",
              "  </style>\n",
              "\n",
              "      <script>\n",
              "        const buttonEl =\n",
              "          document.querySelector('#df-cb1d548e-4481-4299-b2c1-d6ad7ecebe03 button.colab-df-convert');\n",
              "        buttonEl.style.display =\n",
              "          google.colab.kernel.accessAllowed ? 'block' : 'none';\n",
              "\n",
              "        async function convertToInteractive(key) {\n",
              "          const element = document.querySelector('#df-cb1d548e-4481-4299-b2c1-d6ad7ecebe03');\n",
              "          const dataTable =\n",
              "            await google.colab.kernel.invokeFunction('convertToInteractive',\n",
              "                                                     [key], {});\n",
              "          if (!dataTable) return;\n",
              "\n",
              "          const docLinkHtml = 'Like what you see? Visit the ' +\n",
              "            '<a target=\"_blank\" href=https://colab.research.google.com/notebooks/data_table.ipynb>data table notebook</a>'\n",
              "            + ' to learn more about interactive tables.';\n",
              "          element.innerHTML = '';\n",
              "          dataTable['output_type'] = 'display_data';\n",
              "          await google.colab.output.renderOutput(dataTable, element);\n",
              "          const docLink = document.createElement('div');\n",
              "          docLink.innerHTML = docLinkHtml;\n",
              "          element.appendChild(docLink);\n",
              "        }\n",
              "      </script>\n",
              "    </div>\n",
              "  </div>\n",
              "  "
            ]
          },
          "metadata": {},
          "execution_count": 28
        }
      ]
    },
    {
      "cell_type": "markdown",
      "source": [
        "**Heatmap Visualization**"
      ],
      "metadata": {
        "id": "Dk1IDVNumVm1"
      }
    },
    {
      "cell_type": "code",
      "source": [
        "sns.heatmap(\n",
        "    pd.pivot_table(data_rfm[[\"R\", \"F\",\"Monetary\"]], values = \"Monetary\", index = [\"R\"], columns = [\"F\"])\n",
        ")"
      ],
      "metadata": {
        "colab": {
          "base_uri": "https://localhost:8080/",
          "height": 379
        },
        "outputId": "7d974915-0fb4-41c8-f56d-8fd11fb4bc0e",
        "id": "nHCcEcKMmVm1"
      },
      "execution_count": 29,
      "outputs": [
        {
          "output_type": "execute_result",
          "data": {
            "text/plain": [
              "<matplotlib.axes._subplots.AxesSubplot at 0x7fb1b1d0d7d0>"
            ]
          },
          "metadata": {},
          "execution_count": 29
        },
        {
          "output_type": "display_data",
          "data": {
            "text/plain": [
              "<Figure size 576x396 with 2 Axes>"
            ],
            "image/png": "[encoded data removed]"
          },
          "metadata": {}
        }
      ]
    },
    {
      "cell_type": "markdown",
      "source": [
        "**RFM Distribution**"
      ],
      "metadata": {
        "id": "opyjOgfJmVm2"
      }
    },
    {
      "cell_type": "code",
      "source": [
        "rfm_bar_data = data_rfm[[\"R\", \"F\", \"M\"]].groupby([\"R\",\"F\",\"M\"], as_index = False).size()"
      ],
      "metadata": {
        "id": "wYsY6-EsmVm2"
      },
      "execution_count": 30,
      "outputs": []
    },
    {
      "cell_type": "code",
      "source": [
        "g = sns.FacetGrid(\n",
        "    data = rfm_bar_data,\n",
        "    col = \"F\",\n",
        "    row = \"R\"\n",
        ")\n",
        "g.map(sns.barplot, \"M\", \"size\");"
      ],
      "metadata": {
        "colab": {
          "base_uri": "https://localhost:8080/",
          "height": 926
        },
        "outputId": "c6c395d4-5590-41e9-c77f-b03607b3e4ad",
        "id": "mcrNAHMsmVm2"
      },
      "execution_count": 31,
      "outputs": [
        {
          "output_type": "stream",
          "name": "stderr",
          "text": [
            "/usr/local/lib/python3.7/dist-packages/seaborn/axisgrid.py:670: UserWarning: Using the barplot function without specifying `order` is likely to produce an incorrect plot.\n",
            "  warnings.warn(warning)\n"
          ]
        },
        {
          "output_type": "display_data",
          "data": {
            "text/plain": [
              "<Figure size 864x864 with 16 Axes>"
            ],
            "image/png": "[encoded data removed]"
          },
          "metadata": {}
        }
      ]
    },
    {
      "cell_type": "markdown",
      "source": [
        "**Recency, Frequency, and GMV Distribution**"
      ],
      "metadata": {
        "id": "0tXopuuumVm2"
      }
    },
    {
      "cell_type": "code",
      "source": [
        "g = sns.FacetGrid(\n",
        "    data = pd.melt(\n",
        "     data_rfm[[\"Recency\", \"Frequency\",\"Monetary\"]],\n",
        "     value_vars=[\"Recency\",\"Frequency\", \"Monetary\"]\n",
        "    ),\n",
        "    col = \"variable\",\n",
        "    sharex = False,\n",
        "    sharey = False\n",
        ")\n",
        "g.map(sns.histplot, \"value\");"
      ],
      "metadata": {
        "colab": {
          "base_uri": "https://localhost:8080/",
          "height": 221
        },
        "outputId": "10960753-c940-46a5-af9a-aba6998b8a6b",
        "id": "iEvDDiMLmVm3"
      },
      "execution_count": 32,
      "outputs": [
        {
          "output_type": "display_data",
          "data": {
            "text/plain": [
              "<Figure size 648x216 with 3 Axes>"
            ],
            "image/png": "[encoded data removed]"
          },
          "metadata": {}
        }
      ]
    },
    {
      "cell_type": "markdown",
      "source": [
        "**RFM Score to RFM Segment**"
      ],
      "metadata": {
        "id": "Qi_HhyC4mVm3"
      }
    },
    {
      "cell_type": "code",
      "source": [
        "sns.catplot(\n",
        "    y = \"rfm_score\", \n",
        "    data = data_rfm.sort_values(by = [\"rfm_score\"], axis = 0), \n",
        "    kind = \"count\", \n",
        "    height = 10\n",
        ")"
      ],
      "metadata": {
        "colab": {
          "base_uri": "https://localhost:8080/",
          "height": 743
        },
        "outputId": "03cfee51-ea5b-446f-e05f-7cf950d5927b",
        "id": "oYy9geQvmVm3"
      },
      "execution_count": 33,
      "outputs": [
        {
          "output_type": "execute_result",
          "data": {
            "text/plain": [
              "<seaborn.axisgrid.FacetGrid at 0x7fb1af042390>"
            ]
          },
          "metadata": {},
          "execution_count": 33
        },
        {
          "output_type": "display_data",
          "data": {
            "text/plain": [
              "<Figure size 720x720 with 1 Axes>"
            ],
            "image/png": "[encoded data removed]"
          },
          "metadata": {}
        }
      ]
    },
    {
      "cell_type": "code",
      "source": [
        "data_rfm['rfm_segment'] = np.select(\n",
        "    [\n",
        "     data_rfm['rfm_score'].isin([444, 442, 443, 441, 434, 424, 414, 344, 244, 144]),\n",
        "     data_rfm['rfm_score'].isin([433, 432, 423, 343, 342, 334, 333, 332, 324, 323, 243, 234, 233]),\n",
        "     data_rfm['rfm_score'].isin([431, 422, 421, 413, 412, 341, 331, 322, 321, 314, 313, 312, 242, 232, 231, 224, 223, 222, 221, 214, 213, 212, 143, 142, 134, 133, 132, 124, 123, 122]),\n",
        "     data_rfm['rfm_score'].isin([411, 311, 211, 141, 131, 121, 114, 113, 112, 111])\n",
        "    ],\n",
        "    [\n",
        "     'Platinum',\n",
        "     'Gold',\n",
        "     'Silver',\n",
        "     'Classic'\n",
        "    ]\n",
        ")"
      ],
      "metadata": {
        "id": "ZBVMnSS5mVm4"
      },
      "execution_count": 34,
      "outputs": []
    },
    {
      "cell_type": "markdown",
      "source": [
        "*   Customer Platinum : Customer yang memiliki skor RFM tinggi sebesar 4. Ada beberapa customer yang memiliki ranking recency, frequency, atau monetary 1-3 tetapi skor lainnya tinggi\n",
        "*   Customer Gold : Customer yang memiliki skor RFM nya cukup tinggi sebesar 2 dan 3 tetapi ada beberapa customer yang ranking recency, frequency, atau monetary tinggi.\n",
        "*   Customer Silver : Customer yang memiliki skor RFM nya beragam dan memiliki ranking recency, frequency, atau monetary yang rendah\n",
        "*   Customer Classic : Customer yang memiliki skor RFM rendah bernilai 1"
      ],
      "metadata": {
        "id": "QWI6bnkWF8xy"
      }
    },
    {
      "cell_type": "code",
      "source": [
        "data_rfm"
      ],
      "metadata": {
        "colab": {
          "base_uri": "https://localhost:8080/",
          "height": 423
        },
        "outputId": "54a58d02-6825-463a-b410-58440bdacbaa",
        "id": "v0KJ270-mVm5"
      },
      "execution_count": 35,
      "outputs": [
        {
          "output_type": "execute_result",
          "data": {
            "text/plain": [
              "    customer_id  Recency  Frequency     Monetary  R  F  M  rfm_score  \\\n",
              "0      AA-10315      184         10   3695.64640  2  2  2        222   \n",
              "1      AA-10375       19         15   2583.99800  4  4  1        441   \n",
              "2      AA-10480      259         12   5484.60480  1  3  2        132   \n",
              "3      AA-10645       55         15  16940.31125  3  4  4        344   \n",
              "4      AB-10015      415          5   1949.48960  1  1  1        111   \n",
              "..          ...      ...        ...          ... .. .. ..        ...   \n",
              "787    XP-21865       43         27   7132.54200  3  4  3        343   \n",
              "788    YC-21895        4          8  26323.57080  4  2  4        424   \n",
              "789    YS-21880        9         11  38824.68640  4  3  4        434   \n",
              "790    ZC-21910       54         18  29446.60960  3  4  4        344   \n",
              "791    ZD-21925      202          9   5499.11040  2  2  2        222   \n",
              "\n",
              "    rfm_segment  \n",
              "0        Silver  \n",
              "1      Platinum  \n",
              "2        Silver  \n",
              "3      Platinum  \n",
              "4       Classic  \n",
              "..          ...  \n",
              "787        Gold  \n",
              "788    Platinum  \n",
              "789    Platinum  \n",
              "790    Platinum  \n",
              "791      Silver  \n",
              "\n",
              "[792 rows x 9 columns]"
            ],
            "text/html": [
              "\n",
              "  <div id=\"df-6a8cb291-08d7-477a-8390-6a26c396a521\">\n",
              "    <div class=\"colab-df-container\">\n",
              "      <div>\n",
              "<style scoped>\n",
              "    .dataframe tbody tr th:only-of-type {\n",
              "        vertical-align: middle;\n",
              "    }\n",
              "\n",
              "    .dataframe tbody tr th {\n",
              "        vertical-align: top;\n",
              "    }\n",
              "\n",
              "    .dataframe thead th {\n",
              "        text-align: right;\n",
              "    }\n",
              "</style>\n",
              "<table border=\"1\" class=\"dataframe\">\n",
              "  <thead>\n",
              "    <tr style=\"text-align: right;\">\n",
              "      <th></th>\n",
              "      <th>customer_id</th>\n",
              "      <th>Recency</th>\n",
              "      <th>Frequency</th>\n",
              "      <th>Monetary</th>\n",
              "      <th>R</th>\n",
              "      <th>F</th>\n",
              "      <th>M</th>\n",
              "      <th>rfm_score</th>\n",
              "      <th>rfm_segment</th>\n",
              "    </tr>\n",
              "  </thead>\n",
              "  <tbody>\n",
              "    <tr>\n",
              "      <th>0</th>\n",
              "      <td>AA-10315</td>\n",
              "      <td>184</td>\n",
              "      <td>10</td>\n",
              "      <td>3695.64640</td>\n",
              "      <td>2</td>\n",
              "      <td>2</td>\n",
              "      <td>2</td>\n",
              "      <td>222</td>\n",
              "      <td>Silver</td>\n",
              "    </tr>\n",
              "    <tr>\n",
              "      <th>1</th>\n",
              "      <td>AA-10375</td>\n",
              "      <td>19</td>\n",
              "      <td>15</td>\n",
              "      <td>2583.99800</td>\n",
              "      <td>4</td>\n",
              "      <td>4</td>\n",
              "      <td>1</td>\n",
              "      <td>441</td>\n",
              "      <td>Platinum</td>\n",
              "    </tr>\n",
              "    <tr>\n",
              "      <th>2</th>\n",
              "      <td>AA-10480</td>\n",
              "      <td>259</td>\n",
              "      <td>12</td>\n",
              "      <td>5484.60480</td>\n",
              "      <td>1</td>\n",
              "      <td>3</td>\n",
              "      <td>2</td>\n",
              "      <td>132</td>\n",
              "      <td>Silver</td>\n",
              "    </tr>\n",
              "    <tr>\n",
              "      <th>3</th>\n",
              "      <td>AA-10645</td>\n",
              "      <td>55</td>\n",
              "      <td>15</td>\n",
              "      <td>16940.31125</td>\n",
              "      <td>3</td>\n",
              "      <td>4</td>\n",
              "      <td>4</td>\n",
              "      <td>344</td>\n",
              "      <td>Platinum</td>\n",
              "    </tr>\n",
              "    <tr>\n",
              "      <th>4</th>\n",
              "      <td>AB-10015</td>\n",
              "      <td>415</td>\n",
              "      <td>5</td>\n",
              "      <td>1949.48960</td>\n",
              "      <td>1</td>\n",
              "      <td>1</td>\n",
              "      <td>1</td>\n",
              "      <td>111</td>\n",
              "      <td>Classic</td>\n",
              "    </tr>\n",
              "    <tr>\n",
              "      <th>...</th>\n",
              "      <td>...</td>\n",
              "      <td>...</td>\n",
              "      <td>...</td>\n",
              "      <td>...</td>\n",
              "      <td>...</td>\n",
              "      <td>...</td>\n",
              "      <td>...</td>\n",
              "      <td>...</td>\n",
              "      <td>...</td>\n",
              "    </tr>\n",
              "    <tr>\n",
              "      <th>787</th>\n",
              "      <td>XP-21865</td>\n",
              "      <td>43</td>\n",
              "      <td>27</td>\n",
              "      <td>7132.54200</td>\n",
              "      <td>3</td>\n",
              "      <td>4</td>\n",
              "      <td>3</td>\n",
              "      <td>343</td>\n",
              "      <td>Gold</td>\n",
              "    </tr>\n",
              "    <tr>\n",
              "      <th>788</th>\n",
              "      <td>YC-21895</td>\n",
              "      <td>4</td>\n",
              "      <td>8</td>\n",
              "      <td>26323.57080</td>\n",
              "      <td>4</td>\n",
              "      <td>2</td>\n",
              "      <td>4</td>\n",
              "      <td>424</td>\n",
              "      <td>Platinum</td>\n",
              "    </tr>\n",
              "    <tr>\n",
              "      <th>789</th>\n",
              "      <td>YS-21880</td>\n",
              "      <td>9</td>\n",
              "      <td>11</td>\n",
              "      <td>38824.68640</td>\n",
              "      <td>4</td>\n",
              "      <td>3</td>\n",
              "      <td>4</td>\n",
              "      <td>434</td>\n",
              "      <td>Platinum</td>\n",
              "    </tr>\n",
              "    <tr>\n",
              "      <th>790</th>\n",
              "      <td>ZC-21910</td>\n",
              "      <td>54</td>\n",
              "      <td>18</td>\n",
              "      <td>29446.60960</td>\n",
              "      <td>3</td>\n",
              "      <td>4</td>\n",
              "      <td>4</td>\n",
              "      <td>344</td>\n",
              "      <td>Platinum</td>\n",
              "    </tr>\n",
              "    <tr>\n",
              "      <th>791</th>\n",
              "      <td>ZD-21925</td>\n",
              "      <td>202</td>\n",
              "      <td>9</td>\n",
              "      <td>5499.11040</td>\n",
              "      <td>2</td>\n",
              "      <td>2</td>\n",
              "      <td>2</td>\n",
              "      <td>222</td>\n",
              "      <td>Silver</td>\n",
              "    </tr>\n",
              "  </tbody>\n",
              "</table>\n",
              "<p>792 rows × 9 columns</p>\n",
              "</div>\n",
              "      <button class=\"colab-df-convert\" onclick=\"convertToInteractive('df-6a8cb291-08d7-477a-8390-6a26c396a521')\"\n",
              "              title=\"Convert this dataframe to an interactive table.\"\n",
              "              style=\"display:none;\">\n",
              "        \n",
              "  <svg xmlns=\"http://www.w3.org/2000/svg\" height=\"24px\"viewBox=\"0 0 24 24\"\n",
              "       width=\"24px\">\n",
              "    <path d=\"M0 0h24v24H0V0z\" fill=\"none\"/>\n",
              "    <path d=\"M18.56 5.44l.94 2.06.94-2.06 2.06-.94-2.06-.94-.94-2.06-.94 2.06-2.06.94zm-11 1L8.5 8.5l.94-2.06 2.06-.94-2.06-.94L8.5 2.5l-.94 2.06-2.06.94zm10 10l.94 2.06.94-2.06 2.06-.94-2.06-.94-.94-2.06-.94 2.06-2.06.94z\"/><path d=\"M17.41 7.96l-1.37-1.37c-.4-.4-.92-.59-1.43-.59-.52 0-1.04.2-1.43.59L10.3 9.45l-7.72 7.72c-.78.78-.78 2.05 0 2.83L4 21.41c.39.39.9.59 1.41.59.51 0 1.02-.2 1.41-.59l7.78-7.78 2.81-2.81c.8-.78.8-2.07 0-2.86zM5.41 20L4 18.59l7.72-7.72 1.47 1.35L5.41 20z\"/>\n",
              "  </svg>\n",
              "      </button>\n",
              "      \n",
              "  <style>\n",
              "    .colab-df-container {\n",
              "      display:flex;\n",
              "      flex-wrap:wrap;\n",
              "      gap: 12px;\n",
              "    }\n",
              "\n",
              "    .colab-df-convert {\n",
              "      background-color: #E8F0FE;\n",
              "      border: none;\n",
              "      border-radius: 50%;\n",
              "      cursor: pointer;\n",
              "      display: none;\n",
              "      fill: #1967D2;\n",
              "      height: 32px;\n",
              "      padding: 0 0 0 0;\n",
              "      width: 32px;\n",
              "    }\n",
              "\n",
              "    .colab-df-convert:hover {\n",
              "      background-color: #E2EBFA;\n",
              "      box-shadow: 0px 1px 2px rgba(60, 64, 67, 0.3), 0px 1px 3px 1px rgba(60, 64, 67, 0.15);\n",
              "      fill: #174EA6;\n",
              "    }\n",
              "\n",
              "    [theme=dark] .colab-df-convert {\n",
              "      background-color: #3B4455;\n",
              "      fill: #D2E3FC;\n",
              "    }\n",
              "\n",
              "    [theme=dark] .colab-df-convert:hover {\n",
              "      background-color: #434B5C;\n",
              "      box-shadow: 0px 1px 3px 1px rgba(0, 0, 0, 0.15);\n",
              "      filter: drop-shadow(0px 1px 2px rgba(0, 0, 0, 0.3));\n",
              "      fill: #FFFFFF;\n",
              "    }\n",
              "  </style>\n",
              "\n",
              "      <script>\n",
              "        const buttonEl =\n",
              "          document.querySelector('#df-6a8cb291-08d7-477a-8390-6a26c396a521 button.colab-df-convert');\n",
              "        buttonEl.style.display =\n",
              "          google.colab.kernel.accessAllowed ? 'block' : 'none';\n",
              "\n",
              "        async function convertToInteractive(key) {\n",
              "          const element = document.querySelector('#df-6a8cb291-08d7-477a-8390-6a26c396a521');\n",
              "          const dataTable =\n",
              "            await google.colab.kernel.invokeFunction('convertToInteractive',\n",
              "                                                     [key], {});\n",
              "          if (!dataTable) return;\n",
              "\n",
              "          const docLinkHtml = 'Like what you see? Visit the ' +\n",
              "            '<a target=\"_blank\" href=https://colab.research.google.com/notebooks/data_table.ipynb>data table notebook</a>'\n",
              "            + ' to learn more about interactive tables.';\n",
              "          element.innerHTML = '';\n",
              "          dataTable['output_type'] = 'display_data';\n",
              "          await google.colab.output.renderOutput(dataTable, element);\n",
              "          const docLink = document.createElement('div');\n",
              "          docLink.innerHTML = docLinkHtml;\n",
              "          element.appendChild(docLink);\n",
              "        }\n",
              "      </script>\n",
              "    </div>\n",
              "  </div>\n",
              "  "
            ]
          },
          "metadata": {},
          "execution_count": 35
        }
      ]
    },
    {
      "cell_type": "code",
      "source": [
        "sns.catplot(\n",
        "    y = \"rfm_segment\", \n",
        "    data = data_rfm.sort_values(by = [\"rfm_score\"], axis = 0), \n",
        "    kind = \"count\", \n",
        "    height = 10\n",
        ");"
      ],
      "metadata": {
        "colab": {
          "base_uri": "https://localhost:8080/",
          "height": 725
        },
        "outputId": "4d21e4f2-3966-41db-b999-c76a50516e62",
        "id": "V6Dk5bqomVm5"
      },
      "execution_count": 36,
      "outputs": [
        {
          "output_type": "display_data",
          "data": {
            "text/plain": [
              "<Figure size 720x720 with 1 Axes>"
            ],
            "image/png": "[encoded data removed]"
          },
          "metadata": {}
        }
      ]
    },
    {
      "cell_type": "markdown",
      "source": [
        "# NOMOR 3"
      ],
      "metadata": {
        "id": "HSCNpJmtTXNo"
      }
    },
    {
      "cell_type": "markdown",
      "source": [
        "**(Open-Ended) Data manager di tim Growth berfikir bahwa kita bisa membentuk segmentasi lain berdasarkan data yang ada. Anda diminta kembali untuk membuat segmentasi lain dengan tujuan untuk membuat strategi marketing yang tepat pada segmen-segmen berikut. Buatlah segmentasi menggunakan beberapa data yang ada lalu jelaskan mengapa anda menyarankan segmentasi tersebut dan apa aksi yang bisa kita lakukan terhadap segmentasi yang sudah dibuat!**"
      ],
      "metadata": {
        "id": "EKkKoVrl5rDH"
      }
    },
    {
      "cell_type": "markdown",
      "source": [
        "**Data standarization using StandardScaler**"
      ],
      "metadata": {
        "id": "65VL-QPDEMlv"
      }
    },
    {
      "cell_type": "code",
      "source": [
        "scaler_obj = StandardScaler()\n",
        "scaled_data = scaler_obj.fit_transform(data_rfm[[\"Recency\", \"Frequency\", \"Monetary\"]].to_numpy())\n",
        "data_for_kmeans = pd.DataFrame(scaled_data, columns = [\"Recency\", \"Frequency\", \"Monetary\"])"
      ],
      "metadata": {
        "id": "AoMt0_nTEMlw"
      },
      "execution_count": 37,
      "outputs": []
    },
    {
      "cell_type": "markdown",
      "source": [
        "**Check standardize data**"
      ],
      "metadata": {
        "id": "az6MUsEcEMlx"
      }
    },
    {
      "cell_type": "code",
      "source": [
        "data_for_kmeans"
      ],
      "metadata": {
        "colab": {
          "base_uri": "https://localhost:8080/",
          "height": 423
        },
        "id": "1vFRYq1QEMly",
        "outputId": "36c3f46f-0bc6-461b-aff7-c0f6f59d6718"
      },
      "execution_count": 38,
      "outputs": [
        {
          "output_type": "execute_result",
          "data": {
            "text/plain": [
              "      Recency  Frequency  Monetary\n",
              "0    0.068694  -0.032425 -0.547484\n",
              "1   -0.709740   0.898040 -0.636368\n",
              "2    0.422527   0.339761 -0.404445\n",
              "3   -0.539900   0.898040  0.511516\n",
              "4    1.158501  -0.962890 -0.687101\n",
              "..        ...        ...       ...\n",
              "787 -0.596513   3.131155 -0.272681\n",
              "788 -0.780507  -0.404611  1.261770\n",
              "789 -0.756918   0.153668  2.261319\n",
              "790 -0.544618   1.456318  1.511478\n",
              "791  0.153614  -0.218518 -0.403285\n",
              "\n",
              "[792 rows x 3 columns]"
            ],
            "text/html": [
              "\n",
              "  <div id=\"df-6ce6cd91-3ccc-454c-ad29-d9ee300fb58e\">\n",
              "    <div class=\"colab-df-container\">\n",
              "      <div>\n",
              "<style scoped>\n",
              "    .dataframe tbody tr th:only-of-type {\n",
              "        vertical-align: middle;\n",
              "    }\n",
              "\n",
              "    .dataframe tbody tr th {\n",
              "        vertical-align: top;\n",
              "    }\n",
              "\n",
              "    .dataframe thead th {\n",
              "        text-align: right;\n",
              "    }\n",
              "</style>\n",
              "<table border=\"1\" class=\"dataframe\">\n",
              "  <thead>\n",
              "    <tr style=\"text-align: right;\">\n",
              "      <th></th>\n",
              "      <th>Recency</th>\n",
              "      <th>Frequency</th>\n",
              "      <th>Monetary</th>\n",
              "    </tr>\n",
              "  </thead>\n",
              "  <tbody>\n",
              "    <tr>\n",
              "      <th>0</th>\n",
              "      <td>0.068694</td>\n",
              "      <td>-0.032425</td>\n",
              "      <td>-0.547484</td>\n",
              "    </tr>\n",
              "    <tr>\n",
              "      <th>1</th>\n",
              "      <td>-0.709740</td>\n",
              "      <td>0.898040</td>\n",
              "      <td>-0.636368</td>\n",
              "    </tr>\n",
              "    <tr>\n",
              "      <th>2</th>\n",
              "      <td>0.422527</td>\n",
              "      <td>0.339761</td>\n",
              "      <td>-0.404445</td>\n",
              "    </tr>\n",
              "    <tr>\n",
              "      <th>3</th>\n",
              "      <td>-0.539900</td>\n",
              "      <td>0.898040</td>\n",
              "      <td>0.511516</td>\n",
              "    </tr>\n",
              "    <tr>\n",
              "      <th>4</th>\n",
              "      <td>1.158501</td>\n",
              "      <td>-0.962890</td>\n",
              "      <td>-0.687101</td>\n",
              "    </tr>\n",
              "    <tr>\n",
              "      <th>...</th>\n",
              "      <td>...</td>\n",
              "      <td>...</td>\n",
              "      <td>...</td>\n",
              "    </tr>\n",
              "    <tr>\n",
              "      <th>787</th>\n",
              "      <td>-0.596513</td>\n",
              "      <td>3.131155</td>\n",
              "      <td>-0.272681</td>\n",
              "    </tr>\n",
              "    <tr>\n",
              "      <th>788</th>\n",
              "      <td>-0.780507</td>\n",
              "      <td>-0.404611</td>\n",
              "      <td>1.261770</td>\n",
              "    </tr>\n",
              "    <tr>\n",
              "      <th>789</th>\n",
              "      <td>-0.756918</td>\n",
              "      <td>0.153668</td>\n",
              "      <td>2.261319</td>\n",
              "    </tr>\n",
              "    <tr>\n",
              "      <th>790</th>\n",
              "      <td>-0.544618</td>\n",
              "      <td>1.456318</td>\n",
              "      <td>1.511478</td>\n",
              "    </tr>\n",
              "    <tr>\n",
              "      <th>791</th>\n",
              "      <td>0.153614</td>\n",
              "      <td>-0.218518</td>\n",
              "      <td>-0.403285</td>\n",
              "    </tr>\n",
              "  </tbody>\n",
              "</table>\n",
              "<p>792 rows × 3 columns</p>\n",
              "</div>\n",
              "      <button class=\"colab-df-convert\" onclick=\"convertToInteractive('df-6ce6cd91-3ccc-454c-ad29-d9ee300fb58e')\"\n",
              "              title=\"Convert this dataframe to an interactive table.\"\n",
              "              style=\"display:none;\">\n",
              "        \n",
              "  <svg xmlns=\"http://www.w3.org/2000/svg\" height=\"24px\"viewBox=\"0 0 24 24\"\n",
              "       width=\"24px\">\n",
              "    <path d=\"M0 0h24v24H0V0z\" fill=\"none\"/>\n",
              "    <path d=\"M18.56 5.44l.94 2.06.94-2.06 2.06-.94-2.06-.94-.94-2.06-.94 2.06-2.06.94zm-11 1L8.5 8.5l.94-2.06 2.06-.94-2.06-.94L8.5 2.5l-.94 2.06-2.06.94zm10 10l.94 2.06.94-2.06 2.06-.94-2.06-.94-.94-2.06-.94 2.06-2.06.94z\"/><path d=\"M17.41 7.96l-1.37-1.37c-.4-.4-.92-.59-1.43-.59-.52 0-1.04.2-1.43.59L10.3 9.45l-7.72 7.72c-.78.78-.78 2.05 0 2.83L4 21.41c.39.39.9.59 1.41.59.51 0 1.02-.2 1.41-.59l7.78-7.78 2.81-2.81c.8-.78.8-2.07 0-2.86zM5.41 20L4 18.59l7.72-7.72 1.47 1.35L5.41 20z\"/>\n",
              "  </svg>\n",
              "      </button>\n",
              "      \n",
              "  <style>\n",
              "    .colab-df-container {\n",
              "      display:flex;\n",
              "      flex-wrap:wrap;\n",
              "      gap: 12px;\n",
              "    }\n",
              "\n",
              "    .colab-df-convert {\n",
              "      background-color: #E8F0FE;\n",
              "      border: none;\n",
              "      border-radius: 50%;\n",
              "      cursor: pointer;\n",
              "      display: none;\n",
              "      fill: #1967D2;\n",
              "      height: 32px;\n",
              "      padding: 0 0 0 0;\n",
              "      width: 32px;\n",
              "    }\n",
              "\n",
              "    .colab-df-convert:hover {\n",
              "      background-color: #E2EBFA;\n",
              "      box-shadow: 0px 1px 2px rgba(60, 64, 67, 0.3), 0px 1px 3px 1px rgba(60, 64, 67, 0.15);\n",
              "      fill: #174EA6;\n",
              "    }\n",
              "\n",
              "    [theme=dark] .colab-df-convert {\n",
              "      background-color: #3B4455;\n",
              "      fill: #D2E3FC;\n",
              "    }\n",
              "\n",
              "    [theme=dark] .colab-df-convert:hover {\n",
              "      background-color: #434B5C;\n",
              "      box-shadow: 0px 1px 3px 1px rgba(0, 0, 0, 0.15);\n",
              "      filter: drop-shadow(0px 1px 2px rgba(0, 0, 0, 0.3));\n",
              "      fill: #FFFFFF;\n",
              "    }\n",
              "  </style>\n",
              "\n",
              "      <script>\n",
              "        const buttonEl =\n",
              "          document.querySelector('#df-6ce6cd91-3ccc-454c-ad29-d9ee300fb58e button.colab-df-convert');\n",
              "        buttonEl.style.display =\n",
              "          google.colab.kernel.accessAllowed ? 'block' : 'none';\n",
              "\n",
              "        async function convertToInteractive(key) {\n",
              "          const element = document.querySelector('#df-6ce6cd91-3ccc-454c-ad29-d9ee300fb58e');\n",
              "          const dataTable =\n",
              "            await google.colab.kernel.invokeFunction('convertToInteractive',\n",
              "                                                     [key], {});\n",
              "          if (!dataTable) return;\n",
              "\n",
              "          const docLinkHtml = 'Like what you see? Visit the ' +\n",
              "            '<a target=\"_blank\" href=https://colab.research.google.com/notebooks/data_table.ipynb>data table notebook</a>'\n",
              "            + ' to learn more about interactive tables.';\n",
              "          element.innerHTML = '';\n",
              "          dataTable['output_type'] = 'display_data';\n",
              "          await google.colab.output.renderOutput(dataTable, element);\n",
              "          const docLink = document.createElement('div');\n",
              "          docLink.innerHTML = docLinkHtml;\n",
              "          element.appendChild(docLink);\n",
              "        }\n",
              "      </script>\n",
              "    </div>\n",
              "  </div>\n",
              "  "
            ]
          },
          "metadata": {},
          "execution_count": 38
        }
      ]
    },
    {
      "cell_type": "markdown",
      "source": [
        "## Cluster Visualization"
      ],
      "metadata": {
        "id": "cRoJjS_UEMmH"
      }
    },
    {
      "cell_type": "markdown",
      "source": [
        "**Dimensionality reduction using principal component analysis**"
      ],
      "metadata": {
        "id": "nFBD5L2QEMmI"
      }
    },
    {
      "cell_type": "code",
      "source": [
        "pca_model = PCA()\n",
        "pca_model.fit(data_for_kmeans)\n",
        "pca_result = pca_model.transform(data_for_kmeans)"
      ],
      "metadata": {
        "id": "i2JL_iPUEMmJ"
      },
      "execution_count": 39,
      "outputs": []
    },
    {
      "cell_type": "markdown",
      "source": [
        "**PCA result**"
      ],
      "metadata": {
        "id": "tiVr7kgcEMmJ"
      }
    },
    {
      "cell_type": "code",
      "source": [
        "pca_model.explained_variance_ratio_"
      ],
      "metadata": {
        "id": "4SbEf9ntEMmK",
        "colab": {
          "base_uri": "https://localhost:8080/"
        },
        "outputId": "19eddd56-fbb5-4c52-9e56-7805943e3d26"
      },
      "execution_count": 40,
      "outputs": [
        {
          "output_type": "execute_result",
          "data": {
            "text/plain": [
              "array([0.53477024, 0.29069015, 0.1745396 ])"
            ]
          },
          "metadata": {},
          "execution_count": 40
        }
      ]
    },
    {
      "cell_type": "code",
      "source": [
        "pca_result"
      ],
      "metadata": {
        "id": "erJ-Hb26EMmK",
        "colab": {
          "base_uri": "https://localhost:8080/"
        },
        "outputId": "be35926a-452d-4376-df60-f0e7bca163db"
      },
      "execution_count": 41,
      "outputs": [
        {
          "output_type": "execute_result",
          "data": {
            "text/plain": [
              "array([[-0.37233177, -0.25544246, -0.31879083],\n",
              "       [ 0.56002777, -0.86004603, -0.81354786],\n",
              "       [-0.21012225,  0.14938329, -0.6253605 ],\n",
              "       ...,\n",
              "       [ 1.77471892,  0.66853846,  1.45379854],\n",
              "       [ 2.10053084,  0.5378466 , -0.02302136],\n",
              "       [-0.4518174 , -0.12127306, -0.12304613]])"
            ]
          },
          "metadata": {},
          "execution_count": 41
        }
      ]
    },
    {
      "cell_type": "markdown",
      "source": [
        "## Cluster Evaluation"
      ],
      "metadata": {
        "id": "s_WEvdbvEMmB"
      }
    },
    {
      "cell_type": "markdown",
      "source": [
        "**Silhouette Method**"
      ],
      "metadata": {
        "id": "9ykUFiByEMmC"
      }
    },
    {
      "cell_type": "code",
      "source": [
        "model = KElbowVisualizer(KMeans(random_state=1000), k=10, metric = \"silhouette\")\n",
        "model.fit(data_for_kmeans)\n",
        "model.show()"
      ],
      "metadata": {
        "id": "oRPNbrtOEMmD",
        "colab": {
          "base_uri": "https://localhost:8080/",
          "height": 394
        },
        "outputId": "6252959c-ec30-4d60-f3ca-53b2fb48ed67"
      },
      "execution_count": 42,
      "outputs": [
        {
          "output_type": "display_data",
          "data": {
            "text/plain": [
              "<Figure size 576x396 with 2 Axes>"
            ],
            "image/png": "[encoded data removed]"
          },
          "metadata": {}
        },
        {
          "output_type": "execute_result",
          "data": {
            "text/plain": [
              "<matplotlib.axes._subplots.AxesSubplot at 0x7fb1aede0d90>"
            ]
          },
          "metadata": {},
          "execution_count": 42
        }
      ]
    },
    {
      "cell_type": "markdown",
      "source": [
        "## K-Means Modeling"
      ],
      "metadata": {
        "id": "pI6buhB9EMly"
      }
    },
    {
      "cell_type": "markdown",
      "source": [
        "Create clusters using k-means by setting k = 3"
      ],
      "metadata": {
        "id": "lB9hhKz3EMlz"
      }
    },
    {
      "cell_type": "code",
      "source": [
        "kmeans_model = KMeans(\n",
        "    n_clusters = 3,\n",
        "    random_state=1000\n",
        ")\n",
        "\n",
        "kmeans_model.fit(data_for_kmeans)"
      ],
      "metadata": {
        "id": "zFLAqZaVEMl0",
        "colab": {
          "base_uri": "https://localhost:8080/"
        },
        "outputId": "189ca465-1595-45e8-f54d-a5f3cd397d91"
      },
      "execution_count": 43,
      "outputs": [
        {
          "output_type": "execute_result",
          "data": {
            "text/plain": [
              "KMeans(n_clusters=3, random_state=1000)"
            ]
          },
          "metadata": {},
          "execution_count": 43
        }
      ]
    },
    {
      "cell_type": "markdown",
      "source": [
        "Check frequencies of each cluster"
      ],
      "metadata": {
        "id": "aJTWHE3jEMl1"
      }
    },
    {
      "cell_type": "code",
      "source": [
        "np.unique(kmeans_model.labels_, return_counts = True)"
      ],
      "metadata": {
        "id": "eAe6sQX-EMl5",
        "colab": {
          "base_uri": "https://localhost:8080/"
        },
        "outputId": "cb76f8fa-44d2-4fa4-b339-daee289e7df9"
      },
      "execution_count": 44,
      "outputs": [
        {
          "output_type": "execute_result",
          "data": {
            "text/plain": [
              "(array([0, 1, 2], dtype=int32), array([191, 114, 487]))"
            ]
          },
          "metadata": {},
          "execution_count": 44
        }
      ]
    },
    {
      "cell_type": "markdown",
      "source": [
        "Assign cluster to \"cluster\" column"
      ],
      "metadata": {
        "id": "3FAtO74wEMl6"
      }
    },
    {
      "cell_type": "code",
      "source": [
        "data_rfm[\"cluster\"] = kmeans_model.labels_"
      ],
      "metadata": {
        "id": "9qYi7PIOEMl6"
      },
      "execution_count": 45,
      "outputs": []
    },
    {
      "cell_type": "markdown",
      "source": [
        "## Post-Modeling Analysis"
      ],
      "metadata": {
        "id": "YL3XQIQtEMl7"
      }
    },
    {
      "cell_type": "markdown",
      "source": [
        "Total users per segment"
      ],
      "metadata": {
        "id": "G9hoJCyvEMl9"
      }
    },
    {
      "cell_type": "code",
      "source": [
        "sns.catplot(\n",
        "    y = \"cluster\", \n",
        "    data = data_rfm, \n",
        "    kind = \"count\", \n",
        "    height = 5\n",
        ").ax.set_title(\"Total Customer for Each Segment\");"
      ],
      "metadata": {
        "id": "YV5JUxMlEMl-",
        "colab": {
          "base_uri": "https://localhost:8080/",
          "height": 380
        },
        "outputId": "a3fc1d8c-d517-44ea-9b13-d590d7cdf490"
      },
      "execution_count": 46,
      "outputs": [
        {
          "output_type": "display_data",
          "data": {
            "text/plain": [
              "<Figure size 360x360 with 1 Axes>"
            ],
            "image/png": "[encoded data removed]"
          },
          "metadata": {}
        }
      ]
    },
    {
      "cell_type": "markdown",
      "source": [
        "**Recency Days Distribution of Each Segment**"
      ],
      "metadata": {
        "id": "y3YLTYrEEMl_"
      }
    },
    {
      "cell_type": "code",
      "source": [
        "sns.boxplot(x = 'cluster', y = 'Recency', data = data_rfm)"
      ],
      "metadata": {
        "id": "8NuRMPLIEMl_",
        "colab": {
          "base_uri": "https://localhost:8080/",
          "height": 379
        },
        "outputId": "db31c61b-870e-4054-829a-ed8ac250afb3"
      },
      "execution_count": 47,
      "outputs": [
        {
          "output_type": "execute_result",
          "data": {
            "text/plain": [
              "<matplotlib.axes._subplots.AxesSubplot at 0x7fb1b3d587d0>"
            ]
          },
          "metadata": {},
          "execution_count": 47
        },
        {
          "output_type": "display_data",
          "data": {
            "text/plain": [
              "<Figure size 576x396 with 1 Axes>"
            ],
            "image/png": "[encoded data removed]"
          },
          "metadata": {}
        }
      ]
    },
    {
      "cell_type": "markdown",
      "source": [
        "**Transaction Frequency Distribution of Each Segment**"
      ],
      "metadata": {
        "id": "ezIpAXZ2EMl_"
      }
    },
    {
      "cell_type": "code",
      "source": [
        "sns.boxplot(x = 'cluster', y = 'Frequency', data = data_rfm)"
      ],
      "metadata": {
        "id": "GUo7N0asEMmA",
        "colab": {
          "base_uri": "https://localhost:8080/",
          "height": 379
        },
        "outputId": "fccc60d8-e9b7-40d6-8631-379afc70cf8a"
      },
      "execution_count": 48,
      "outputs": [
        {
          "output_type": "execute_result",
          "data": {
            "text/plain": [
              "<matplotlib.axes._subplots.AxesSubplot at 0x7fb1af03f550>"
            ]
          },
          "metadata": {},
          "execution_count": 48
        },
        {
          "output_type": "display_data",
          "data": {
            "text/plain": [
              "<Figure size 576x396 with 1 Axes>"
            ],
            "image/png": "[encoded data removed]"
          },
          "metadata": {}
        }
      ]
    },
    {
      "cell_type": "markdown",
      "source": [
        "**GMV Distribution of Each Segment**"
      ],
      "metadata": {
        "id": "L7kjo-YEEMmA"
      }
    },
    {
      "cell_type": "code",
      "source": [
        "sns.boxplot(x = 'cluster', y = 'Monetary', data = data_rfm)"
      ],
      "metadata": {
        "id": "we_giMgMEMmB",
        "colab": {
          "base_uri": "https://localhost:8080/",
          "height": 379
        },
        "outputId": "71df0fb5-6bb6-4107-95f2-ceb5ea08e797"
      },
      "execution_count": 49,
      "outputs": [
        {
          "output_type": "execute_result",
          "data": {
            "text/plain": [
              "<matplotlib.axes._subplots.AxesSubplot at 0x7fb1b3dafe90>"
            ]
          },
          "metadata": {},
          "execution_count": 49
        },
        {
          "output_type": "display_data",
          "data": {
            "text/plain": [
              "<Figure size 576x396 with 1 Axes>"
            ],
            "image/png": "[encoded data removed]"
          },
          "metadata": {}
        }
      ]
    },
    {
      "cell_type": "markdown",
      "source": [
        "Visualize cluster"
      ],
      "metadata": {
        "id": "Z7k3NpJIEMmL"
      }
    },
    {
      "cell_type": "code",
      "source": [
        "pca_result = pd.DataFrame(pca_result, columns = [\"PC1\", \"PC2\", \"PC3\"])\n",
        "pca_result['cluster'] = kmeans_model.labels_"
      ],
      "metadata": {
        "id": "xWoFBwLmEMmL"
      },
      "execution_count": 50,
      "outputs": []
    },
    {
      "cell_type": "code",
      "source": [
        "sns.scatterplot(data = pca_result, x = \"PC1\", y = \"PC2\", hue = \"cluster\");"
      ],
      "metadata": {
        "id": "hufTEGEJEMmM",
        "colab": {
          "base_uri": "https://localhost:8080/",
          "height": 361
        },
        "outputId": "d179b10a-1703-42aa-d43f-312b0b2dbc9c"
      },
      "execution_count": 51,
      "outputs": [
        {
          "output_type": "display_data",
          "data": {
            "text/plain": [
              "<Figure size 576x396 with 1 Axes>"
            ],
            "image/png": "[encoded data removed]"
          },
          "metadata": {}
        }
      ]
    },
    {
      "cell_type": "markdown",
      "source": [
        "Visualization by using convex hull"
      ],
      "metadata": {
        "id": "q8UrXApuEMmM"
      }
    },
    {
      "cell_type": "code",
      "source": [
        "centroids = kmeans_model.cluster_centers_\n",
        "cen_x = [i[0] for i in centroids] \n",
        "cen_y = [i[1] for i in centroids]\n",
        "colors = ['#DF2020', '#81DF20', '#2095DF']\n",
        "pca_result['c'] = pca_result.cluster.map({0:colors[0], 1:colors[1], 2:colors[2]})"
      ],
      "metadata": {
        "id": "ocxCHqtgEMmN"
      },
      "execution_count": 52,
      "outputs": []
    },
    {
      "cell_type": "code",
      "source": [
        "fig, ax = plt.subplots(1, figsize=(8,8))\n",
        "\n",
        "plt.scatter(pca_result.PC1, pca_result.PC2, c=pca_result.c, alpha = 0.6, s=10)\n",
        "plt.scatter(cen_x, cen_y, marker='^', c=colors, s=70)\n",
        "\n",
        "# draw enclosure\n",
        "for i in pca_result.cluster.unique():\n",
        "    points = pca_result[pca_result.cluster == i][['PC1', 'PC2']].values\n",
        "    hull = ConvexHull(points)\n",
        "    x_hull = np.append(points[hull.vertices,0],\n",
        "                       points[hull.vertices,0][0])\n",
        "    y_hull = np.append(points[hull.vertices,1],\n",
        "                       points[hull.vertices,1][0])\n",
        "    plt.fill(x_hull, y_hull, alpha=0.3, c=colors[i])"
      ],
      "metadata": {
        "id": "KvQgdMSHEMmN",
        "colab": {
          "base_uri": "https://localhost:8080/",
          "height": 483
        },
        "outputId": "b43b8075-63b9-40ac-a434-3b5eeb5d91ce"
      },
      "execution_count": 53,
      "outputs": [
        {
          "output_type": "display_data",
          "data": {
            "text/plain": [
              "<Figure size 576x576 with 1 Axes>"
            ],
            "image/png": "[encoded data removed]"
          },
          "metadata": {}
        }
      ]
    },
    {
      "cell_type": "markdown",
      "source": [
        "## Biplot"
      ],
      "metadata": {
        "id": "L_HRlcaSEMmN"
      }
    },
    {
      "cell_type": "code",
      "source": [
        "def myplot(score, coeff, labels=None):\n",
        "    xs = score[:,0]\n",
        "    ys = score[:,1]\n",
        "    n = coeff.shape[0]\n",
        "    scalex = 1.0/(xs.max() - xs.min())\n",
        "    scaley = 1.0/(ys.max() - ys.min())\n",
        "    plt.scatter(xs * scalex,ys * scaley)\n",
        "    for i in range(n):\n",
        "        plt.arrow(0, 0, coeff[i,0], coeff[i,1],color = 'r',alpha = 0.5)\n",
        "        if labels is None:\n",
        "            plt.text(coeff[i,0]* 1.15, coeff[i,1] * 1.15, \"Var\"+str(i+1), color = 'g', ha = 'center', va = 'center')\n",
        "        else:\n",
        "            plt.text(coeff[i,0]* 1.15, coeff[i,1] * 1.15, labels[i], color = 'g', ha = 'center', va = 'center')\n",
        "    plt.xlim(-1,1)\n",
        "    plt.ylim(-1,1)\n",
        "    plt.xlabel(\"PC{}\".format(1))\n",
        "    plt.ylabel(\"PC{}\".format(2))\n",
        "    plt.grid()"
      ],
      "metadata": {
        "id": "sXej2jDTEMmO"
      },
      "execution_count": 54,
      "outputs": []
    },
    {
      "cell_type": "code",
      "source": [
        "pca_model = PCA()\n",
        "pca_model.fit(data_for_kmeans)\n",
        "pca_result = pca_model.transform(data_for_kmeans)"
      ],
      "metadata": {
        "id": "gkoMvGNaEMmO"
      },
      "execution_count": 55,
      "outputs": []
    },
    {
      "cell_type": "code",
      "source": [
        "myplot(pca_result[:,0:2],np.transpose(pca_model.components_[0:2, :]), labels = [\"Recency\", \"Frequency\", \"Monetary\"])\n",
        "plt.show()"
      ],
      "metadata": {
        "colab": {
          "base_uri": "https://localhost:8080/",
          "height": 365
        },
        "id": "nl_mHNbPEMmP",
        "outputId": "2f92b9c8-5f69-4dd4-a38f-8a0f3240504c"
      },
      "execution_count": 56,
      "outputs": [
        {
          "output_type": "display_data",
          "data": {
            "text/plain": [
              "<Figure size 576x396 with 1 Axes>"
            ],
            "image/png": "[encoded data removed]"
          },
          "metadata": {}
        }
      ]
    },
    {
      "cell_type": "code",
      "source": [
        "pca_result"
      ],
      "metadata": {
        "colab": {
          "base_uri": "https://localhost:8080/"
        },
        "id": "SSEazHgtEMmS",
        "outputId": "d1bd1342-8360-46c4-dbbe-6e3a5ea98fee"
      },
      "execution_count": 57,
      "outputs": [
        {
          "output_type": "execute_result",
          "data": {
            "text/plain": [
              "array([[-0.37233177, -0.25544246, -0.31879083],\n",
              "       [ 0.56002777, -0.86004603, -0.81354786],\n",
              "       [-0.21012225,  0.14938329, -0.6253605 ],\n",
              "       ...,\n",
              "       [ 1.77471892,  0.66853846,  1.45379854],\n",
              "       [ 2.10053084,  0.5378466 , -0.02302136],\n",
              "       [-0.4518174 , -0.12127306, -0.12304613]])"
            ]
          },
          "metadata": {},
          "execution_count": 57
        }
      ]
    }
  ]
}